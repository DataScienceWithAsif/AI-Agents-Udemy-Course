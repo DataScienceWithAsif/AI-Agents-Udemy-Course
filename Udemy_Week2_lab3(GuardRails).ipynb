{
  "nbformat": 4,
  "nbformat_minor": 0,
  "metadata": {
    "colab": {
      "provenance": []
    },
    "kernelspec": {
      "name": "python3",
      "display_name": "Python 3"
    },
    "language_info": {
      "name": "python"
    }
  },
  "cells": [
    {
      "cell_type": "code",
      "execution_count": 1,
      "metadata": {
        "colab": {
          "base_uri": "https://localhost:8080/"
        },
        "collapsed": true,
        "id": "dgIoegT7BXa0",
        "outputId": "789b5495-e756-481c-d86e-531e9e958ae0"
      },
      "outputs": [
        {
          "output_type": "stream",
          "name": "stdout",
          "text": [
            "Requirement already satisfied: openai in /usr/local/lib/python3.12/dist-packages (1.107.0)\n",
            "Collecting openai-agents\n",
            "  Downloading openai_agents-0.3.1-py3-none-any.whl.metadata (12 kB)\n",
            "Requirement already satisfied: pydantic in /usr/local/lib/python3.12/dist-packages (2.11.7)\n",
            "Requirement already satisfied: anyio<5,>=3.5.0 in /usr/local/lib/python3.12/dist-packages (from openai) (4.10.0)\n",
            "Requirement already satisfied: distro<2,>=1.7.0 in /usr/local/lib/python3.12/dist-packages (from openai) (1.9.0)\n",
            "Requirement already satisfied: httpx<1,>=0.23.0 in /usr/local/lib/python3.12/dist-packages (from openai) (0.28.1)\n",
            "Requirement already satisfied: jiter<1,>=0.4.0 in /usr/local/lib/python3.12/dist-packages (from openai) (0.10.0)\n",
            "Requirement already satisfied: sniffio in /usr/local/lib/python3.12/dist-packages (from openai) (1.3.1)\n",
            "Requirement already satisfied: tqdm>4 in /usr/local/lib/python3.12/dist-packages (from openai) (4.67.1)\n",
            "Requirement already satisfied: typing-extensions<5,>=4.11 in /usr/local/lib/python3.12/dist-packages (from openai) (4.15.0)\n",
            "Collecting griffe<2,>=1.5.6 (from openai-agents)\n",
            "  Downloading griffe-1.14.0-py3-none-any.whl.metadata (5.1 kB)\n",
            "Requirement already satisfied: mcp<2,>=1.11.0 in /usr/local/lib/python3.12/dist-packages (from openai-agents) (1.13.1)\n",
            "Collecting openai\n",
            "  Downloading openai-1.108.1-py3-none-any.whl.metadata (29 kB)\n",
            "Requirement already satisfied: requests<3,>=2.0 in /usr/local/lib/python3.12/dist-packages (from openai-agents) (2.32.4)\n",
            "Collecting types-requests<3,>=2.0 (from openai-agents)\n",
            "  Downloading types_requests-2.32.4.20250913-py3-none-any.whl.metadata (2.0 kB)\n",
            "Requirement already satisfied: annotated-types>=0.6.0 in /usr/local/lib/python3.12/dist-packages (from pydantic) (0.7.0)\n",
            "Requirement already satisfied: pydantic-core==2.33.2 in /usr/local/lib/python3.12/dist-packages (from pydantic) (2.33.2)\n",
            "Requirement already satisfied: typing-inspection>=0.4.0 in /usr/local/lib/python3.12/dist-packages (from pydantic) (0.4.1)\n",
            "Requirement already satisfied: idna>=2.8 in /usr/local/lib/python3.12/dist-packages (from anyio<5,>=3.5.0->openai) (3.10)\n",
            "Collecting colorama>=0.4 (from griffe<2,>=1.5.6->openai-agents)\n",
            "  Downloading colorama-0.4.6-py2.py3-none-any.whl.metadata (17 kB)\n",
            "Requirement already satisfied: certifi in /usr/local/lib/python3.12/dist-packages (from httpx<1,>=0.23.0->openai) (2025.8.3)\n",
            "Requirement already satisfied: httpcore==1.* in /usr/local/lib/python3.12/dist-packages (from httpx<1,>=0.23.0->openai) (1.0.9)\n",
            "Requirement already satisfied: h11>=0.16 in /usr/local/lib/python3.12/dist-packages (from httpcore==1.*->httpx<1,>=0.23.0->openai) (0.16.0)\n",
            "Requirement already satisfied: httpx-sse>=0.4 in /usr/local/lib/python3.12/dist-packages (from mcp<2,>=1.11.0->openai-agents) (0.4.1)\n",
            "Requirement already satisfied: jsonschema>=4.20.0 in /usr/local/lib/python3.12/dist-packages (from mcp<2,>=1.11.0->openai-agents) (4.25.1)\n",
            "Requirement already satisfied: pydantic-settings>=2.5.2 in /usr/local/lib/python3.12/dist-packages (from mcp<2,>=1.11.0->openai-agents) (2.10.1)\n",
            "Requirement already satisfied: python-multipart>=0.0.9 in /usr/local/lib/python3.12/dist-packages (from mcp<2,>=1.11.0->openai-agents) (0.0.20)\n",
            "Requirement already satisfied: sse-starlette>=1.6.1 in /usr/local/lib/python3.12/dist-packages (from mcp<2,>=1.11.0->openai-agents) (3.0.2)\n",
            "Requirement already satisfied: starlette>=0.27 in /usr/local/lib/python3.12/dist-packages (from mcp<2,>=1.11.0->openai-agents) (0.47.3)\n",
            "Requirement already satisfied: uvicorn>=0.31.1 in /usr/local/lib/python3.12/dist-packages (from mcp<2,>=1.11.0->openai-agents) (0.35.0)\n",
            "Requirement already satisfied: charset_normalizer<4,>=2 in /usr/local/lib/python3.12/dist-packages (from requests<3,>=2.0->openai-agents) (3.4.3)\n",
            "Requirement already satisfied: urllib3<3,>=1.21.1 in /usr/local/lib/python3.12/dist-packages (from requests<3,>=2.0->openai-agents) (2.5.0)\n",
            "Requirement already satisfied: attrs>=22.2.0 in /usr/local/lib/python3.12/dist-packages (from jsonschema>=4.20.0->mcp<2,>=1.11.0->openai-agents) (25.3.0)\n",
            "Requirement already satisfied: jsonschema-specifications>=2023.03.6 in /usr/local/lib/python3.12/dist-packages (from jsonschema>=4.20.0->mcp<2,>=1.11.0->openai-agents) (2025.9.1)\n",
            "Requirement already satisfied: referencing>=0.28.4 in /usr/local/lib/python3.12/dist-packages (from jsonschema>=4.20.0->mcp<2,>=1.11.0->openai-agents) (0.36.2)\n",
            "Requirement already satisfied: rpds-py>=0.7.1 in /usr/local/lib/python3.12/dist-packages (from jsonschema>=4.20.0->mcp<2,>=1.11.0->openai-agents) (0.27.1)\n",
            "Requirement already satisfied: python-dotenv>=0.21.0 in /usr/local/lib/python3.12/dist-packages (from pydantic-settings>=2.5.2->mcp<2,>=1.11.0->openai-agents) (1.1.1)\n",
            "Requirement already satisfied: click>=7.0 in /usr/local/lib/python3.12/dist-packages (from uvicorn>=0.31.1->mcp<2,>=1.11.0->openai-agents) (8.2.1)\n",
            "Downloading openai_agents-0.3.1-py3-none-any.whl (193 kB)\n",
            "\u001b[2K   \u001b[90m━━━━━━━━━━━━━━━━━━━━━━━━━━━━━━━━━━━━━━━━\u001b[0m \u001b[32m193.9/193.9 kB\u001b[0m \u001b[31m11.4 MB/s\u001b[0m eta \u001b[36m0:00:00\u001b[0m\n",
            "\u001b[?25hDownloading openai-1.108.1-py3-none-any.whl (948 kB)\n",
            "\u001b[2K   \u001b[90m━━━━━━━━━━━━━━━━━━━━━━━━━━━━━━━━━━━━━━━━\u001b[0m \u001b[32m948.4/948.4 kB\u001b[0m \u001b[31m26.6 MB/s\u001b[0m eta \u001b[36m0:00:00\u001b[0m\n",
            "\u001b[?25hDownloading griffe-1.14.0-py3-none-any.whl (144 kB)\n",
            "\u001b[2K   \u001b[90m━━━━━━━━━━━━━━━━━━━━━━━━━━━━━━━━━━━━━━━━\u001b[0m \u001b[32m144.4/144.4 kB\u001b[0m \u001b[31m4.8 MB/s\u001b[0m eta \u001b[36m0:00:00\u001b[0m\n",
            "\u001b[?25hDownloading types_requests-2.32.4.20250913-py3-none-any.whl (20 kB)\n",
            "Downloading colorama-0.4.6-py2.py3-none-any.whl (25 kB)\n",
            "Installing collected packages: types-requests, colorama, griffe, openai, openai-agents\n",
            "  Attempting uninstall: openai\n",
            "    Found existing installation: openai 1.107.0\n",
            "    Uninstalling openai-1.107.0:\n",
            "      Successfully uninstalled openai-1.107.0\n",
            "Successfully installed colorama-0.4.6 griffe-1.14.0 openai-1.108.1 openai-agents-0.3.1 types-requests-2.32.4.20250913\n"
          ]
        }
      ],
      "source": [
        "!pip install openai openai-agents pydantic"
      ]
    },
    {
      "cell_type": "code",
      "source": [
        "!pip install sendgrid"
      ],
      "metadata": {
        "colab": {
          "base_uri": "https://localhost:8080/",
          "height": 570
        },
        "collapsed": true,
        "id": "Nt7QOd_0HO_Y",
        "outputId": "2405f1e8-57a9-4c60-97bd-42f358d1c4aa"
      },
      "execution_count": 12,
      "outputs": [
        {
          "output_type": "stream",
          "name": "stdout",
          "text": [
            "Collecting sendgrid\n",
            "  Downloading sendgrid-6.12.5-py3-none-any.whl.metadata (12 kB)\n",
            "Collecting python-http-client>=3.2.1 (from sendgrid)\n",
            "  Downloading python_http_client-3.3.7-py3-none-any.whl.metadata (6.9 kB)\n",
            "Collecting cryptography>=45.0.6 (from sendgrid)\n",
            "  Downloading cryptography-46.0.1-cp311-abi3-manylinux_2_34_x86_64.whl.metadata (5.7 kB)\n",
            "Requirement already satisfied: werkzeug>=2.2.0 in /usr/local/lib/python3.12/dist-packages (from sendgrid) (3.1.3)\n",
            "Requirement already satisfied: cffi>=2.0.0 in /usr/local/lib/python3.12/dist-packages (from cryptography>=45.0.6->sendgrid) (2.0.0)\n",
            "Requirement already satisfied: MarkupSafe>=2.1.1 in /usr/local/lib/python3.12/dist-packages (from werkzeug>=2.2.0->sendgrid) (3.0.2)\n",
            "Requirement already satisfied: pycparser in /usr/local/lib/python3.12/dist-packages (from cffi>=2.0.0->cryptography>=45.0.6->sendgrid) (2.23)\n",
            "Downloading sendgrid-6.12.5-py3-none-any.whl (102 kB)\n",
            "\u001b[2K   \u001b[90m━━━━━━━━━━━━━━━━━━━━━━━━━━━━━━━━━━━━━━━━\u001b[0m \u001b[32m102.2/102.2 kB\u001b[0m \u001b[31m4.3 MB/s\u001b[0m eta \u001b[36m0:00:00\u001b[0m\n",
            "\u001b[?25hDownloading cryptography-46.0.1-cp311-abi3-manylinux_2_34_x86_64.whl (4.6 MB)\n",
            "\u001b[2K   \u001b[90m━━━━━━━━━━━━━━━━━━━━━━━━━━━━━━━━━━━━━━━━\u001b[0m \u001b[32m4.6/4.6 MB\u001b[0m \u001b[31m63.0 MB/s\u001b[0m eta \u001b[36m0:00:00\u001b[0m\n",
            "\u001b[?25hDownloading python_http_client-3.3.7-py3-none-any.whl (8.4 kB)\n",
            "Installing collected packages: python-http-client, cryptography, sendgrid\n",
            "  Attempting uninstall: cryptography\n",
            "    Found existing installation: cryptography 43.0.3\n",
            "    Uninstalling cryptography-43.0.3:\n",
            "      Successfully uninstalled cryptography-43.0.3\n",
            "\u001b[31mERROR: pip's dependency resolver does not currently take into account all the packages that are installed. This behaviour is the source of the following dependency conflicts.\n",
            "pyopenssl 24.2.1 requires cryptography<44,>=41.0.5, but you have cryptography 46.0.1 which is incompatible.\n",
            "pydrive2 1.21.3 requires cryptography<44, but you have cryptography 46.0.1 which is incompatible.\u001b[0m\u001b[31m\n",
            "\u001b[0mSuccessfully installed cryptography-46.0.1 python-http-client-3.3.7 sendgrid-6.12.5\n"
          ]
        },
        {
          "output_type": "display_data",
          "data": {
            "application/vnd.colab-display-data+json": {
              "pip_warning": {
                "packages": [
                  "_openssl",
                  "cryptography"
                ]
              },
              "id": "5b2a3bddb24342778980bdd11dd3dd04"
            }
          },
          "metadata": {}
        }
      ]
    },
    {
      "cell_type": "code",
      "source": [
        "from agents import Agent, Runner, trace, OpenAIChatCompletionsModel, GuardrailFunctionOutput, function_tool, input_guardrail\n",
        "from openai import AsyncOpenAI\n",
        "from pydantic import BaseModel\n",
        "import os\n",
        "from google.colab import userdata\n",
        "import sendgrid\n",
        "from sendgrid import SendGridAPIClient\n",
        "from sendgrid.helpers.mail import To, Email, Mail, Content\n"
      ],
      "metadata": {
        "id": "eluvIzSTCC3d"
      },
      "execution_count": 104,
      "outputs": []
    },
    {
      "cell_type": "code",
      "source": [
        "gemini_base_url=\"https://generativelanguage.googleapis.com/v1beta/openai/\"\n",
        "groq_base_url=\"https://api.groq.com/openai/v1\"\n",
        "\n",
        "gemini_api_key=userdata.get(\"GOOGLE_API_KEY\")\n",
        "groq_api_key=userdata.get(\"GROQ_API_KEY\")"
      ],
      "metadata": {
        "id": "M0OrFfIkCbem"
      },
      "execution_count": 79,
      "outputs": []
    },
    {
      "cell_type": "code",
      "source": [
        "gemini_client=AsyncOpenAI(api_key=gemini_api_key, base_url=gemini_base_url)\n",
        "groq_client=AsyncOpenAI(api_key=groq_api_key, base_url=groq_base_url)\n",
        "\n",
        "gemini_model=OpenAIChatCompletionsModel(model=\"gemini-2.5-flash\", openai_client=gemini_client)\n",
        "groq_model=OpenAIChatCompletionsModel(model=\"openai/gpt-oss-20b\", openai_client=groq_client)"
      ],
      "metadata": {
        "id": "CqvCvCz6DD55"
      },
      "execution_count": 80,
      "outputs": []
    },
    {
      "cell_type": "markdown",
      "source": [
        "# Instructions for Agents"
      ],
      "metadata": {
        "id": "BDpOMwZaEXb9"
      }
    },
    {
      "cell_type": "code",
      "source": [
        "inst1=\"You are a sales agent working for ComplAI, \\\n",
        "a company that provides SaaS tool for ensuring SOC2 compilance and preparing audits, powered by AI. \\\n",
        "You write engaging cold sales emails that are likely to get reponse from user.\"\n",
        "\n",
        "inst2=\"You are a sales agent working for ComplAI, \\\n",
        "a company that provides SaaS tool for ensuring SOC2 compilance and preparing audits, powered by AI. \\\n",
        "You write professional and serious cold sales email\"\n",
        "\n",
        "Sales_Agent1=Agent(\n",
        "    name=\"Sales_Agent1\",\n",
        "    instructions=inst1,\n",
        "    model=gemini_model\n",
        ")\n",
        "\n",
        "Sales_Agent2=Agent(\n",
        "    name=\"Sales_Agent2\",\n",
        "    instructions=inst2,\n",
        "    model=gemini_model\n",
        ")"
      ],
      "metadata": {
        "id": "XH0HJgXiEbMu"
      },
      "execution_count": 81,
      "outputs": []
    },
    {
      "cell_type": "code",
      "source": [
        "subject_inst=\"You are a subject extracter from given email body, \\\n",
        "you have to extract best subject of email based on given email body\"\n",
        "\n",
        "subject_agent=Agent(\n",
        "    name=\"subject_agent\",\n",
        "    instructions=subject_inst,\n",
        "    model=gemini_model\n",
        ")"
      ],
      "metadata": {
        "id": "INcYtqoackBs"
      },
      "execution_count": 82,
      "outputs": []
    },
    {
      "cell_type": "code",
      "source": [
        "html_inst=\"you are a email converter agent from text email body to HTML email body. \\\n",
        "you have to precisely convert text email to html email, text may include markdown.\"\n",
        "\n",
        "html_agent=Agent(\n",
        "    name=\"html_agent\",\n",
        "    instructions=html_inst,\n",
        "    model=gemini_model\n",
        ")\n",
        "\n",
        "# UserError: Hosted tools are not supported with the ChatCompletions API.\n",
        "# Got tool type: <class 'agents.agent.Agent'>, tool: Agent(name='html_agent',"
      ],
      "metadata": {
        "id": "l5kxtBSuezs0"
      },
      "execution_count": 83,
      "outputs": []
    },
    {
      "cell_type": "markdown",
      "source": [
        "# Agent as tools"
      ],
      "metadata": {
        "id": "wDFmNnuyGcTR"
      }
    },
    {
      "cell_type": "code",
      "source": [
        "tool1=Sales_Agent1.as_tool(tool_name=\"Sales_Agent1\",tool_description=\"Write engaging cold sales email for company ComplAI\")\n",
        "tool2=Sales_Agent2.as_tool(tool_name=\"Sales_Agent2\",tool_description=\"Write professional and serious cold sales email for company ComplAI\")\n",
        "subject_agent_tool=subject_agent.as_tool(tool_name=\"subject_agent\",tool_description=\"give best subject for given email\")\n",
        "#html_agent_tool=html_agent.as_tool(tool_name=\"html_agent\",tool_description=\"Convert text email body to HTML email body\")"
      ],
      "metadata": {
        "id": "omWpTVQHGfOl"
      },
      "execution_count": 92,
      "outputs": []
    },
    {
      "cell_type": "markdown",
      "source": [
        "## Functions as tool"
      ],
      "metadata": {
        "id": "Dr0lqNn-gmGv"
      }
    },
    {
      "cell_type": "code",
      "source": [
        "@function_tool\n",
        "def send_email(subject, body:str):\n",
        "  \"\"\"Send out email with the given HTML email body to all the sales prospects\"\"\"\n",
        "  sg=SendGridAPIClient(api_key=userdata.get(\"SENDGRID_API_KEY\"))\n",
        "\n",
        "  from_email=Email(\"muasif025@gmail.com\")\n",
        "  to_email=To(\"as29624041@gmail.com\")\n",
        "  content=Content(\"text/plain\",body)\n",
        "  mail=Mail(from_email, to_email, subject ,content).get()\n",
        "  response=sg.client.mail.send.post(request_body=mail)\n",
        "\n",
        "  return {\"status\":\"success\"}"
      ],
      "metadata": {
        "id": "ZmIpYZpoHOR3"
      },
      "execution_count": 93,
      "outputs": []
    },
    {
      "cell_type": "code",
      "source": [
        "tools=[tool1, tool2, subject_agent_tool, send_email]"
      ],
      "metadata": {
        "id": "7hTPHbdtM1ni"
      },
      "execution_count": 94,
      "outputs": []
    },
    {
      "cell_type": "code",
      "source": [
        "tools"
      ],
      "metadata": {
        "colab": {
          "base_uri": "https://localhost:8080/"
        },
        "collapsed": true,
        "id": "nKG4ND3FM8Gj",
        "outputId": "eea64f07-00d4-49d8-a6a0-194a734b280a"
      },
      "execution_count": 88,
      "outputs": [
        {
          "output_type": "execute_result",
          "data": {
            "text/plain": [
              "[FunctionTool(name='Sales_Agent1', description='Write engaging cold sales email for company ComplAI', params_json_schema={'properties': {'input': {'title': 'Input', 'type': 'string'}}, 'required': ['input'], 'title': 'Sales_Agent1_args', 'type': 'object', 'additionalProperties': False}, on_invoke_tool=<function function_tool.<locals>._create_function_tool.<locals>._on_invoke_tool at 0x7edf1e470cc0>, strict_json_schema=True, is_enabled=True),\n",
              " FunctionTool(name='Sales_Agent2', description='Write professional and serious cold sales email for company ComplAI', params_json_schema={'properties': {'input': {'title': 'Input', 'type': 'string'}}, 'required': ['input'], 'title': 'Sales_Agent2_args', 'type': 'object', 'additionalProperties': False}, on_invoke_tool=<function function_tool.<locals>._create_function_tool.<locals>._on_invoke_tool at 0x7edf1f2744a0>, strict_json_schema=True, is_enabled=True),\n",
              " FunctionTool(name='subject_agent', description='give best subject for given email', params_json_schema={'properties': {'input': {'title': 'Input', 'type': 'string'}}, 'required': ['input'], 'title': 'subject_agent_args', 'type': 'object', 'additionalProperties': False}, on_invoke_tool=<function function_tool.<locals>._create_function_tool.<locals>._on_invoke_tool at 0x7edf1e4725c0>, strict_json_schema=True, is_enabled=True),\n",
              " Agent(name='html_agent', handoff_description=None, tools=[], mcp_servers=[], mcp_config={}, instructions='you are a email converter agent from text email body to HTML email body. you have to precisely convert text email to html email, text may include markdown.', prompt=None, handoffs=[], model=<agents.models.openai_chatcompletions.OpenAIChatCompletionsModel object at 0x7edf1e42bf50>, model_settings=ModelSettings(temperature=None, top_p=None, frequency_penalty=None, presence_penalty=None, tool_choice=None, parallel_tool_calls=None, truncation=None, max_tokens=None, reasoning=None, verbosity=None, metadata=None, store=None, include_usage=None, response_include=None, top_logprobs=None, extra_query=None, extra_body=None, extra_headers=None, extra_args=None), input_guardrails=[], output_guardrails=[], output_type=None, hooks=None, tool_use_behavior='run_llm_again', reset_tool_choice=True),\n",
              " FunctionTool(name='send_email', description='Send out email with the given HTML email body to all the sales prospects', params_json_schema={'properties': {'subject': {'title': 'Subject'}, 'html_body': {'title': 'Html Body'}}, 'required': ['subject', 'html_body'], 'title': 'send_email_args', 'type': 'object', 'additionalProperties': False}, on_invoke_tool=<function function_tool.<locals>._create_function_tool.<locals>._on_invoke_tool at 0x7edf1e41fb00>, strict_json_schema=True, is_enabled=True)]"
            ]
          },
          "metadata": {},
          "execution_count": 88
        }
      ]
    },
    {
      "cell_type": "code",
      "source": [
        "manager_inst=\"You are a Sales manager working for ComplAI. \\\n",
        "You use the tools given to you to generate cold sales email. \\\n",
        "You never generate sales emails yourself; you always use the tools. \\\n",
        "You try all 2 sales_agent tools once before choosing the best one. \\\n",
        "You pick the single best email and use the subject_agent tool to extract subject of email,\\\n",
        "and use the send_email tool to send the best email (and only the best email) to the user with the agent given subject\"\n",
        "\n",
        "manager_agent=Agent(\n",
        "    name=\"Sales manager\",\n",
        "    instructions=manager_inst,\n",
        "    tools=tools,\n",
        "    model=gemini_model\n",
        ")\n"
      ],
      "metadata": {
        "id": "k4mUE1TDSa8L"
      },
      "execution_count": 95,
      "outputs": []
    },
    {
      "cell_type": "code",
      "source": [
        "message=\"Send out a cold sales email addressed to Dear CEO from Alice\"\n",
        "result=await Runner.run(manager_agent,message)"
      ],
      "metadata": {
        "colab": {
          "base_uri": "https://localhost:8080/"
        },
        "id": "1w2lPrw-YYMz",
        "outputId": "9e3d78a2-cc2b-482d-87c8-a20f2ed4ef5e"
      },
      "execution_count": 96,
      "outputs": [
        {
          "output_type": "stream",
          "name": "stderr",
          "text": [
            "WARNING:openai.agents:OPENAI_API_KEY is not set, skipping trace export\n",
            "WARNING:openai.agents:OPENAI_API_KEY is not set, skipping trace export\n",
            "WARNING:openai.agents:OPENAI_API_KEY is not set, skipping trace export\n",
            "WARNING:openai.agents:OPENAI_API_KEY is not set, skipping trace export\n",
            "WARNING:openai.agents:OPENAI_API_KEY is not set, skipping trace export\n",
            "WARNING:openai.agents:OPENAI_API_KEY is not set, skipping trace export\n"
          ]
        }
      ]
    },
    {
      "cell_type": "code",
      "source": [
        "result.final_output"
      ],
      "metadata": {
        "colab": {
          "base_uri": "https://localhost:8080/",
          "height": 36
        },
        "id": "KhZtdRSVYork",
        "outputId": "b2478903-755c-460d-d8b5-e753e855a4e7"
      },
      "execution_count": 97,
      "outputs": [
        {
          "output_type": "execute_result",
          "data": {
            "text/plain": [
              "'The email has been sent.'"
            ],
            "application/vnd.google.colaboratory.intrinsic+json": {
              "type": "string"
            }
          },
          "metadata": {},
          "execution_count": 97
        }
      ]
    },
    {
      "cell_type": "markdown",
      "source": [
        "# Agent Guardrails"
      ],
      "metadata": {
        "id": "syD8hLclky1J"
      }
    },
    {
      "cell_type": "code",
      "source": [
        "class NameCheckOutput(BaseModel):\n",
        "  is_name_in_message:bool\n",
        "  name:str"
      ],
      "metadata": {
        "id": "X8yfYBWpbU8R"
      },
      "execution_count": 99,
      "outputs": []
    },
    {
      "cell_type": "code",
      "source": [
        "guardrail_agent=Agent(\n",
        "    name=\"Name Check\",\n",
        "    instructions=\"check if the user is including someone's personal name in what they want you to do.\",\n",
        "    output_type=NameCheckOutput,\n",
        "    model=gemini_model\n",
        ")"
      ],
      "metadata": {
        "id": "p-lyn4_jmY0_"
      },
      "execution_count": 103,
      "outputs": []
    },
    {
      "cell_type": "code",
      "source": [
        "@input_guardrail\n",
        "async def guardrail_against_name(ctx, agent, message):\n",
        "  result= await Runner.run(guardrail_agent, message, context=ctx.context)\n",
        "  is_name_in_message=result.final_output.is_name_in_message\n",
        "\n",
        "  return GuardrailFunctionOutput(output_info={\"found_name\": result.final_output}, tripwire_triggered=is_name_in_message)"
      ],
      "metadata": {
        "id": "f3fDrgqHnBac"
      },
      "execution_count": 106,
      "outputs": []
    },
    {
      "cell_type": "code",
      "source": [
        "manager_inst=\"You are a Sales manager working for ComplAI. \\\n",
        "You use the tools given to you to generate cold sales email. \\\n",
        "You never generate sales emails yourself; you always use the tools. \\\n",
        "You try all 2 sales_agent tools once before choosing the best one. \\\n",
        "You pick the single best email and use the subject_agent tool to extract subject of email,\\\n",
        "and use the send_email tool to send the best email (and only the best email) to the user with the agent given subject\"\n",
        "\n",
        "careful_manager_agent=Agent(\n",
        "    name=\"Sales manager\",\n",
        "    instructions=manager_inst,\n",
        "    tools=tools,\n",
        "    model=gemini_model,\n",
        "    input_guardrails=[guardrail_against_name]\n",
        ")\n"
      ],
      "metadata": {
        "id": "pqxSK8S2oW4h"
      },
      "execution_count": 108,
      "outputs": []
    },
    {
      "cell_type": "code",
      "source": [
        "message=\"Send out a cold sales email\"\n",
        "result=await Runner.run(careful_manager_agent,message)"
      ],
      "metadata": {
        "colab": {
          "base_uri": "https://localhost:8080/"
        },
        "id": "bVHRslAHo9Y-",
        "outputId": "4565e769-61bb-4661-c323-024e706ab55f"
      },
      "execution_count": 110,
      "outputs": [
        {
          "output_type": "stream",
          "name": "stderr",
          "text": [
            "WARNING:openai.agents:OPENAI_API_KEY is not set, skipping trace export\n",
            "WARNING:openai.agents:OPENAI_API_KEY is not set, skipping trace export\n",
            "WARNING:openai.agents:OPENAI_API_KEY is not set, skipping trace export\n",
            "WARNING:openai.agents:OPENAI_API_KEY is not set, skipping trace export\n",
            "WARNING:openai.agents:OPENAI_API_KEY is not set, skipping trace export\n",
            "WARNING:openai.agents:OPENAI_API_KEY is not set, skipping trace export\n"
          ]
        }
      ]
    },
    {
      "cell_type": "code",
      "source": [
        "print(result.final_output)"
      ],
      "metadata": {
        "colab": {
          "base_uri": "https://localhost:8080/"
        },
        "id": "blJpjdq0pBhE",
        "outputId": "1aac04e8-e326-4ea9-d7e3-2086fe22d5a3"
      },
      "execution_count": 111,
      "outputs": [
        {
          "output_type": "stream",
          "name": "stdout",
          "text": [
            "The cold sales email has been sent with the subject \"Free Up Developer Time from SOC2 Compliance (with ComplAI)\".\n"
          ]
        }
      ]
    },
    {
      "cell_type": "code",
      "source": [
        "message=\"Send out a cold sales email addressed to Dear CEO from Alice\"\n",
        "result=await Runner.run(careful_manager_agent,message)"
      ],
      "metadata": {
        "colab": {
          "base_uri": "https://localhost:8080/",
          "height": 332
        },
        "id": "bAP2sFAuplMt",
        "outputId": "222b9824-8dca-41f8-d18c-8e8888b010ff"
      },
      "execution_count": 112,
      "outputs": [
        {
          "output_type": "error",
          "ename": "InputGuardrailTripwireTriggered",
          "evalue": "Guardrail InputGuardrail triggered tripwire",
          "traceback": [
            "\u001b[0;31m---------------------------------------------------------------------------\u001b[0m",
            "\u001b[0;31mInputGuardrailTripwireTriggered\u001b[0m           Traceback (most recent call last)",
            "\u001b[0;32m/tmp/ipython-input-1672153878.py\u001b[0m in \u001b[0;36m<cell line: 1>\u001b[0;34m()\u001b[0m\n\u001b[1;32m      1\u001b[0m \u001b[0mmessage\u001b[0m\u001b[0;34m=\u001b[0m\u001b[0;34m\"Send out a cold sales email addressed to Dear CEO from Alice\"\u001b[0m\u001b[0;34m\u001b[0m\u001b[0;34m\u001b[0m\u001b[0m\n\u001b[0;32m----> 2\u001b[0;31m \u001b[0mresult\u001b[0m\u001b[0;34m=\u001b[0m\u001b[0;32mawait\u001b[0m \u001b[0mRunner\u001b[0m\u001b[0;34m.\u001b[0m\u001b[0mrun\u001b[0m\u001b[0;34m(\u001b[0m\u001b[0mcareful_manager_agent\u001b[0m\u001b[0;34m,\u001b[0m\u001b[0mmessage\u001b[0m\u001b[0;34m)\u001b[0m\u001b[0;34m\u001b[0m\u001b[0;34m\u001b[0m\u001b[0m\n\u001b[0m",
            "\u001b[0;32m/usr/local/lib/python3.12/dist-packages/agents/run.py\u001b[0m in \u001b[0;36mrun\u001b[0;34m(cls, starting_agent, input, context, max_turns, hooks, run_config, previous_response_id, conversation_id, session)\u001b[0m\n\u001b[1;32m    293\u001b[0m \u001b[0;34m\u001b[0m\u001b[0m\n\u001b[1;32m    294\u001b[0m         \u001b[0mrunner\u001b[0m \u001b[0;34m=\u001b[0m \u001b[0mDEFAULT_AGENT_RUNNER\u001b[0m\u001b[0;34m\u001b[0m\u001b[0;34m\u001b[0m\u001b[0m\n\u001b[0;32m--> 295\u001b[0;31m         return await runner.run(\n\u001b[0m\u001b[1;32m    296\u001b[0m             \u001b[0mstarting_agent\u001b[0m\u001b[0;34m,\u001b[0m\u001b[0;34m\u001b[0m\u001b[0;34m\u001b[0m\u001b[0m\n\u001b[1;32m    297\u001b[0m             \u001b[0minput\u001b[0m\u001b[0;34m,\u001b[0m\u001b[0;34m\u001b[0m\u001b[0;34m\u001b[0m\u001b[0m\n",
            "\u001b[0;32m/usr/local/lib/python3.12/dist-packages/agents/run.py\u001b[0m in \u001b[0;36mrun\u001b[0;34m(self, starting_agent, input, **kwargs)\u001b[0m\n\u001b[1;32m    545\u001b[0m \u001b[0;34m\u001b[0m\u001b[0m\n\u001b[1;32m    546\u001b[0m                     \u001b[0;32mif\u001b[0m \u001b[0mcurrent_turn\u001b[0m \u001b[0;34m==\u001b[0m \u001b[0;36m1\u001b[0m\u001b[0;34m:\u001b[0m\u001b[0;34m\u001b[0m\u001b[0;34m\u001b[0m\u001b[0m\n\u001b[0;32m--> 547\u001b[0;31m                         input_guardrail_results, turn_result = await asyncio.gather(\n\u001b[0m\u001b[1;32m    548\u001b[0m                             self._run_input_guardrails(\n\u001b[1;32m    549\u001b[0m                                 \u001b[0mstarting_agent\u001b[0m\u001b[0;34m,\u001b[0m\u001b[0;34m\u001b[0m\u001b[0;34m\u001b[0m\u001b[0m\n",
            "\u001b[0;32m/usr/local/lib/python3.12/dist-packages/agents/run.py\u001b[0m in \u001b[0;36m_run_input_guardrails\u001b[0;34m(cls, agent, guardrails, input, context)\u001b[0m\n\u001b[1;32m   1379\u001b[0m                     )\n\u001b[1;32m   1380\u001b[0m                 )\n\u001b[0;32m-> 1381\u001b[0;31m                 \u001b[0;32mraise\u001b[0m \u001b[0mInputGuardrailTripwireTriggered\u001b[0m\u001b[0;34m(\u001b[0m\u001b[0mresult\u001b[0m\u001b[0;34m)\u001b[0m\u001b[0;34m\u001b[0m\u001b[0;34m\u001b[0m\u001b[0m\n\u001b[0m\u001b[1;32m   1382\u001b[0m             \u001b[0;32melse\u001b[0m\u001b[0;34m:\u001b[0m\u001b[0;34m\u001b[0m\u001b[0;34m\u001b[0m\u001b[0m\n\u001b[1;32m   1383\u001b[0m                 \u001b[0mguardrail_results\u001b[0m\u001b[0;34m.\u001b[0m\u001b[0mappend\u001b[0m\u001b[0;34m(\u001b[0m\u001b[0mresult\u001b[0m\u001b[0;34m)\u001b[0m\u001b[0;34m\u001b[0m\u001b[0;34m\u001b[0m\u001b[0m\n",
            "\u001b[0;31mInputGuardrailTripwireTriggered\u001b[0m: Guardrail InputGuardrail triggered tripwire"
          ]
        }
      ]
    },
    {
      "cell_type": "code",
      "source": [
        "message=\"Send out a cold sales email addressed to Dear CEO Head of Business Department\"\n",
        "result=await Runner.run(careful_manager_agent,message)"
      ],
      "metadata": {
        "colab": {
          "base_uri": "https://localhost:8080/"
        },
        "id": "rha_UvJvqbpY",
        "outputId": "fa53096f-9126-4a3c-9830-ee18800235f2"
      },
      "execution_count": 113,
      "outputs": [
        {
          "output_type": "stream",
          "name": "stderr",
          "text": [
            "WARNING:openai.agents:OPENAI_API_KEY is not set, skipping trace export\n",
            "WARNING:openai.agents:OPENAI_API_KEY is not set, skipping trace export\n",
            "WARNING:openai.agents:OPENAI_API_KEY is not set, skipping trace export\n",
            "WARNING:openai.agents:OPENAI_API_KEY is not set, skipping trace export\n",
            "WARNING:openai.agents:OPENAI_API_KEY is not set, skipping trace export\n"
          ]
        }
      ]
    },
    {
      "cell_type": "code",
      "source": [
        "print(result.final_output)"
      ],
      "metadata": {
        "colab": {
          "base_uri": "https://localhost:8080/"
        },
        "id": "f2d8YWyJqxZ4",
        "outputId": "1c9c6bfe-d8f7-483b-8376-2c9f36c5e279"
      },
      "execution_count": 114,
      "outputs": [
        {
          "output_type": "stream",
          "name": "stdout",
          "text": [
            "I have sent out a cold sales email with the subject \"Enhancing SOC2 Compliance & Audit Readiness: A Strategic Advantage for [Company Name]\" to the CEO Head of Business Department.\n"
          ]
        }
      ]
    }
  ]
}