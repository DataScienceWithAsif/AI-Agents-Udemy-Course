{
 "cells": [
  {
   "cell_type": "code",
   "execution_count": 1,
   "id": "a68e7434",
   "metadata": {},
   "outputs": [
    {
     "name": "stdout",
     "output_type": "stream",
     "text": [
      "all ok!!\n"
     ]
    }
   ],
   "source": [
    "print(\"all ok!!\")"
   ]
  },
  {
   "cell_type": "code",
   "execution_count": 45,
   "id": "1d4528ca",
   "metadata": {},
   "outputs": [],
   "source": [
    "evaluator_llm=ChatGroq(model=\"openai/gpt-oss-20b\")"
   ]
  },
  {
   "cell_type": "code",
   "execution_count": 2,
   "id": "eea16d3e",
   "metadata": {},
   "outputs": [],
   "source": [
    "from langgraph.graph import StateGraph, START, END\n",
    "from langgraph.prebuilt import ToolNode, tools_condition\n",
    "from langgraph.graph.message import add_messages\n",
    "from langgraph.checkpoint.memory import MemorySaver\n",
    "from langchain_openai import ChatOpenAI\n",
    "from langchain.agents import Tool\n",
    "from langchain_community.utilities import GoogleSerperAPIWrapper\n",
    "from langchain_core.messages import SystemMessage, AIMessage, HumanMessage\n",
    "from langchain_google_genai import ChatGoogleGenerativeAI\n",
    "\n",
    "from typing import Annotated, Any, Dict, List, Optional\n",
    "from IPython.display import Image, display\n",
    "from typing_extensions import TypedDict\n",
    "from pydantic import BaseModel, Field\n",
    "from dotenv import load_dotenv\n",
    "import gradio as gr\n",
    "import requests\n",
    "import os\n",
    "import asyncio\n",
    "import uuid"
   ]
  },
  {
   "cell_type": "code",
   "execution_count": 3,
   "id": "162007bb",
   "metadata": {},
   "outputs": [
    {
     "data": {
      "text/plain": [
       "True"
      ]
     },
     "execution_count": 3,
     "metadata": {},
     "output_type": "execute_result"
    }
   ],
   "source": [
    "load_dotenv()"
   ]
  },
  {
   "cell_type": "code",
   "execution_count": 106,
   "id": "7202cf8e",
   "metadata": {},
   "outputs": [],
   "source": [
    "# llm = ChatGoogleGenerativeAI(\n",
    "#     model=\"gemini-2.5-pro\",\n",
    "#     temperature=0,\n",
    "#     max_tokens=None,\n",
    "#     timeout=None,\n",
    "#     max_retries=10\n",
    "# )"
   ]
  },
  {
   "cell_type": "markdown",
   "id": "e112dd02",
   "metadata": {},
   "source": [
    "## structured output"
   ]
  },
  {
   "cell_type": "code",
   "execution_count": 4,
   "id": "8c13f337",
   "metadata": {},
   "outputs": [],
   "source": [
    "class EvaluatorOutput(BaseModel):\n",
    "    feedback: str =Field(description=\"feedback on the assistant`s response\")\n",
    "    success_criteria_met: bool =Field(description=\"Whether the success criteria have been met\")\n",
    "    user_input_needed: bool =Field(description=\"True if more input is needed from the user, or clarifications, or the assistant is stuck\")"
   ]
  },
  {
   "cell_type": "code",
   "execution_count": 5,
   "id": "213f1063",
   "metadata": {},
   "outputs": [],
   "source": [
    "# Defining a state\n",
    "\n",
    "from typing import Optional\n",
    "\n",
    "\n",
    "class State(TypedDict):\n",
    "    messages: Annotated[list[Any], add_messages]\n",
    "    success_criteria: str\n",
    "    feedback_on_work: Optional[str]\n",
    "    success_criteria_met: bool\n",
    "    user_input_needed: bool"
   ]
  },
  {
   "cell_type": "code",
   "execution_count": 6,
   "id": "28017db8",
   "metadata": {},
   "outputs": [],
   "source": [
    "serper=GoogleSerperAPIWrapper()\n",
    "search_tool=Tool(\n",
    "        name=\"search\",\n",
    "        func=serper.run,\n",
    "        description=\"Useful for when you need to more information from online search\"\n",
    "        )"
   ]
  },
  {
   "cell_type": "code",
   "execution_count": 7,
   "id": "a9d22ae2",
   "metadata": {},
   "outputs": [],
   "source": [
    "tools=[search_tool]"
   ]
  },
  {
   "cell_type": "code",
   "execution_count": 8,
   "id": "861b786b",
   "metadata": {},
   "outputs": [],
   "source": [
    "worker_llm=ChatOpenAI(model=\"gpt-4o-mini\")\n",
    "worker_llm_with_tools=worker_llm.bind_tools(tools)\n",
    "\n",
    "evaluator_llm=ChatOpenAI(model=\"gpt-4o-mini\")\n",
    "evaluator_llm_with_output=evaluator_llm.with_structured_output(EvaluatorOutput)"
   ]
  },
  {
   "cell_type": "code",
   "execution_count": null,
   "id": "89f59ef9",
   "metadata": {},
   "outputs": [],
   "source": [
    "# worker_llm_with_tools=llm.bind_tools(tools)\n",
    "\n",
    "# evaluator_llm_with_output=llm.with_structured_output(EvaluatorOutput)"
   ]
  },
  {
   "cell_type": "code",
   "execution_count": 18,
   "id": "e7077f57",
   "metadata": {},
   "outputs": [],
   "source": [
    "def worker(state: State) -> Dict[str, Any]:\n",
    "    system_message = f\"\"\"You are a helpful assistant that can use tools to complete tasks.\n",
    "    \n",
    "    SUCCESS CRITERIA: {state[\"success_criteria\"]}\n",
    "    \n",
    "    Follow these rules:\n",
    "    1. FIRST attempt to answer the question directly using your knowledge\n",
    "    2. If you need current information or additional data, use the search tool\n",
    "    3. Only ask clarifying questions if the request is truly ambiguous or missing key information\n",
    "    4. Provide complete, helpful answers that meet the success criteria\n",
    "    5. When you have a final answer, state it clearly without additional questions\n",
    "    \n",
    "    Examples:\n",
    "    - For \"what is current USD/GBP exchange rate\": Use search tool and provide the rate\n",
    "    - For \"what are trending AI fields\": Provide a comprehensive list based on your knowledge\n",
    "    - Only ask for clarification if the question is unclear like \"tell me about it\"\n",
    "    \"\"\"\n",
    "\n",
    "    if state.get(\"feedback_on_work\"):\n",
    "        system_message += f\"\"\"\n",
    "        PREVIOUS FEEDBACK: {state[\"feedback_on_work\"]}\n",
    "        Use this feedback to improve your response. Address the issues mentioned.\n",
    "        \"\"\"\n",
    "\n",
    "    found_system_message = False\n",
    "    messages = state[\"messages\"]\n",
    "    \n",
    "    for message in messages:\n",
    "        if isinstance(message, SystemMessage):\n",
    "            message.content = system_message\n",
    "            found_system_message = True\n",
    "            \n",
    "    if not found_system_message:\n",
    "        messages = [SystemMessage(content=system_message)] + messages\n",
    "\n",
    "    response = worker_llm_with_tools.invoke(messages)\n",
    "\n",
    "    return {\n",
    "        \"messages\": [response]\n",
    "    }"
   ]
  },
  {
   "cell_type": "code",
   "execution_count": null,
   "id": "6ca65aad",
   "metadata": {},
   "outputs": [],
   "source": [
    "# def worker(state: State) -> Dict[str, Any]:\n",
    "#     system_message = f\"\"\"You are a helpful assistant that can use tools to complete tasks.\n",
    "    \n",
    "#     SUCCESS CRITERIA: {state[\"success_criteria\"]}\n",
    "    \n",
    "#     Follow these rules:\n",
    "#     1. FIRST attempt to answer the question directly using your knowledge\n",
    "#     2. If you need current information or additional data, use the search tool\n",
    "#     3. Only ask clarifying questions if the request is truly ambiguous\n",
    "#     4. When using tools, make sure to provide the tool calls properly\n",
    "#     5. Provide complete, helpful answers that meet the success criteria\n",
    "#     \"\"\"\n",
    "\n",
    "#     if state.get(\"feedback_on_work\"):\n",
    "#         system_message += f\"\"\"\n",
    "#         PREVIOUS FEEDBACK: {state[\"feedback_on_work\"]}\n",
    "#         Use this feedback to improve your response.\n",
    "#         \"\"\"\n",
    "\n",
    "#     # Filter out system messages and prepare context\n",
    "#     conversation_messages = [msg for msg in state[\"messages\"] if not isinstance(msg, SystemMessage)]\n",
    "    \n",
    "#     # Add system message at the beginning\n",
    "#     messages = [SystemMessage(content=system_message)] + conversation_messages\n",
    "\n",
    "#     try:\n",
    "#         response = worker_llm_with_tools.invoke(messages)\n",
    "#         return {\"messages\": [response]}\n",
    "#     except Exception as e:\n",
    "#         print(f\"Error in worker: {e}\")\n",
    "#         # Fallback response\n",
    "#         return {\"messages\": [AIMessage(content=f\"I encountered an error. Please try again. Error: {str(e)}\")]}"
   ]
  },
  {
   "cell_type": "code",
   "execution_count": 19,
   "id": "7ddf7b71",
   "metadata": {},
   "outputs": [],
   "source": [
    "def work_router(state: State) -> str:\n",
    "    last_response=state['messages'][-1]\n",
    "    \n",
    "    if hasattr(last_response, \"tool_calls\") and last_response.tool_calls:\n",
    "        return \"tools\"\n",
    "    else:\n",
    "        return \"evaluator\""
   ]
  },
  {
   "cell_type": "code",
   "execution_count": 20,
   "id": "407122ab",
   "metadata": {},
   "outputs": [],
   "source": [
    "def format_conversation(messages: List[Any]) -> str:\n",
    "    conversation = \"Conversation history:\\n\\n\"\n",
    "\n",
    "    for message in messages:\n",
    "        if isinstance(message, HumanMessage):\n",
    "            conversation +=f\"User: {message.content}\\n\"\n",
    "        elif isinstance(message, AIMessage):\n",
    "            text=message.content or \"[tools use]\"\n",
    "            conversation += f\"Assistant: {text}\\n\"\n",
    "    \n",
    "    return conversation"
   ]
  },
  {
   "cell_type": "code",
   "execution_count": 30,
   "id": "62e2e312",
   "metadata": {},
   "outputs": [],
   "source": [
    "def evaluator(state: State) -> State:\n",
    "    last_message = state['messages'][-1]\n",
    "    \n",
    "    used_tools = hasattr(last_message, \"tool_calls\") and last_message.tool_calls\n",
    "    \n",
    "    # MODIFIED SYSTEM MESSAGE\n",
    "    system_message = \"\"\"You are an expert evaluator. Your job is to determine if the assistant is making progress.\n",
    "    \n",
    "    CRITICAL RULE: If the assistant's response is not improving, is repetitive, or seems stuck after receiving feedback,\n",
    "    it is YOUR RESPONSIBILITY to stop the loop. In this case, you MUST set 'user_input_needed' to True and provide feedback\n",
    "    explaining that the assistant is stuck and requires clarification from the user.\n",
    "    \n",
    "    Consider these as POSITIVE progress:\n",
    "    - Assistant used tools to gather information.\n",
    "    - Assistant provided a substantive answer that is closer to the goal.\n",
    "    \n",
    "    Only consider user input needed if:\n",
    "    - The assistant is stuck and repeating itself (as per the CRITICAL RULE).\n",
    "    - The original question is truly ambiguous and cannot be answered without more information.\"\"\"\n",
    "\n",
    "    user_message = f\"\"\"\n",
    "    CONVERSATION HISTORY:\n",
    "    {format_conversation(state[\"messages\"])}\n",
    "    \n",
    "    SUCCESS CRITERIA: {state[\"success_criteria\"]}\n",
    "    \n",
    "    LAST RESPONSE: {last_message.content}\n",
    "    \n",
    "    Evaluate whether:\n",
    "    1. The response makes progress toward the success criteria.\n",
    "    2. The assistant needs clarification (especially if it seems stuck).\n",
    "    3. The success criteria is fully met.\n",
    "    \"\"\"\n",
    "\n",
    "    if state.get(\"feedback_on_work\"):\n",
    "        user_message += f\"\\\\nPREVIOUS FEEDBACK: {state['feedback_on_work']}\"\n",
    "\n",
    "    evaluator_message = [SystemMessage(content=system_message), HumanMessage(content=user_message)]\n",
    "    evaluation_result = evaluator_llm_with_output.invoke(evaluator_message)\n",
    "\n",
    "    new_state = {\n",
    "        \"feedback_on_work\": evaluation_result.feedback,\n",
    "        \"success_criteria_met\": evaluation_result.success_criteria_met,\n",
    "        \"user_input_needed\": evaluation_result.user_input_needed,\n",
    "        # Adding the feedback to the message history is better for context\n",
    "        \"messages\": [AIMessage(content=f\"Evaluator feedback: {evaluation_result.feedback}\")]\n",
    "    }\n",
    "\n",
    "    return new_state"
   ]
  },
  {
   "cell_type": "code",
   "execution_count": 31,
   "id": "e9f230cf",
   "metadata": {},
   "outputs": [],
   "source": [
    "def router_based_on_evaluation(state: State) -> str:\n",
    "    if state.get('success_criteria_met', False) or state.get('user_input_needed', False):\n",
    "        return \"END\"\n",
    "    else:\n",
    "        return \"worker\"  # This was missing the return statement"
   ]
  },
  {
   "cell_type": "code",
   "execution_count": 32,
   "id": "c61bdc5c",
   "metadata": {},
   "outputs": [],
   "source": [
    "# setting up Graph Buillder\n",
    "graph_builder=StateGraph(State)\n",
    "\n",
    "# adding Nodes\n",
    "graph_builder.add_node(\"worker\", worker)\n",
    "graph_builder.add_node(\"tools\", ToolNode(tools=[search_tool]))\n",
    "graph_builder.add_node(\"evaluator\", evaluator)\n",
    "\n",
    "# adding Edges\n",
    "graph_builder.add_edge(START, \"worker\")\n",
    "graph_builder.add_conditional_edges(\"worker\", work_router, {\"tools\":\"tools\", \"evaluator\":\"evaluator\"})\n",
    "graph_builder.add_edge(\"tools\",\"worker\")\n",
    "graph_builder.add_conditional_edges(\"evaluator\", router_based_on_evaluation, {\"worker\":\"worker\", \"END\":END})\n",
    "\n",
    "# Compiling the graph\n",
    "memory=MemorySaver()\n",
    "graph=graph_builder.compile(checkpointer=memory)"
   ]
  },
  {
   "cell_type": "code",
   "execution_count": 33,
   "id": "32e76c2f",
   "metadata": {},
   "outputs": [
    {
     "data": {
      "image/png": "[encoded data removed]",
      "text/plain": [
       "<IPython.core.display.Image object>"
      ]
     },
     "metadata": {},
     "output_type": "display_data"
    }
   ],
   "source": [
    "display(Image(graph.get_graph().draw_mermaid_png()))"
   ]
  },
  {
   "cell_type": "code",
   "execution_count": 34,
   "id": "482872f3",
   "metadata": {},
   "outputs": [],
   "source": [
    "def make_thread_id() -> str:\n",
    "    return str(uuid.uuid4())\n",
    "\n",
    "async def process_message(message, success_criteria, history, thread):\n",
    "    config={\"configurable\":{\"thread_id\":thread}}\n",
    "\n",
    "    state={\n",
    "        \"messages\": message,\n",
    "        \"success_criteria\": success_criteria,\n",
    "        \"feedback_on_work\": None,\n",
    "        \"success_criteria_met\": False,\n",
    "        \"user_input_needed\": False\n",
    "    }\n",
    "\n",
    "    result = await graph.ainvoke(state, config=config)\n",
    "    user={\"role\":\"user\", \"content\": message}\n",
    "    reply={\"role\":\"assistant\", \"content\": result[\"messages\"][-2].content}\n",
    "    feedback={\"role\":\"assistant\", \"content\": result[\"messages\"][-1].content}\n",
    "\n",
    "    return history + [user, reply, feedback]\n",
    "\n",
    "\n",
    "async def reset():\n",
    "    return \"\", \"\", None, make_thread_id()"
   ]
  },
  {
   "cell_type": "markdown",
   "id": "bc9902f5",
   "metadata": {},
   "source": [
    "# Launching Sidekick UI"
   ]
  },
  {
   "cell_type": "code",
   "execution_count": 35,
   "id": "34d2a8bd",
   "metadata": {},
   "outputs": [
    {
     "name": "stdout",
     "output_type": "stream",
     "text": [
      "* Running on local URL:  http://127.0.0.1:7860\n",
      "* To create a public link, set `share=True` in `launch()`.\n"
     ]
    },
    {
     "data": {
      "text/html": [
       "<div><iframe src=\"http://127.0.0.1:7860/\" width=\"100%\" height=\"500\" allow=\"autoplay; camera; microphone; clipboard-read; clipboard-write;\" frameborder=\"0\" allowfullscreen></iframe></div>"
      ],
      "text/plain": [
       "<IPython.core.display.HTML object>"
      ]
     },
     "metadata": {},
     "output_type": "display_data"
    },
    {
     "name": "stdout",
     "output_type": "stream",
     "text": [
      "Keyboard interruption in main thread... closing server.\n"
     ]
    },
    {
     "data": {
      "text/plain": []
     },
     "execution_count": 35,
     "metadata": {},
     "output_type": "execute_result"
    }
   ],
   "source": [
    "with gr.Blocks(theme=gr.themes.Default(primary_hue=\"emerald\")) as demo:\n",
    "    gr.Markdown(\"## Sidekick Personal Co-worker\")\n",
    "    thread=gr.State(make_thread_id())\n",
    "\n",
    "    with gr.Row():\n",
    "        chatbot = gr.Chatbot(label=\"Sidekick\", height=300, type=\"messages\")\n",
    "    with gr.Group():\n",
    "        with gr.Row():\n",
    "            message = gr.Textbox(show_label=False, placeholder=\"Your request to Sidekick\")\n",
    "        with gr.Row():\n",
    "            # Instead of empty or vague criteria, provide better defaults\n",
    "                success_criteria = gr.Textbox(\n",
    "                    show_label=False, \n",
    "                    placeholder=\"Success criteria (e.g.: Provide current exchange rate with source)\",\n",
    "                    value=\"Provide accurate, helpful information that addresses the user's question\"\n",
    "                    )\n",
    "    with gr.Row():\n",
    "        reset_button = gr.Button(\"Reset\",variant=\"stop\")\n",
    "        go_button = gr.Button(\"Go!\", variant=\"primary\")\n",
    "    \n",
    "    message.submit(process_message, [message, success_criteria, chatbot, thread], [chatbot])\n",
    "    success_criteria.submit(process_message, [message, success_criteria, chatbot, thread], [chatbot])\n",
    "    go_button.click(process_message, [message, success_criteria, chatbot, thread], [chatbot])\n",
    "    reset_button.click(reset, [], [message, success_criteria, chatbot, thread])\n",
    "\n",
    "\n",
    "demo.launch(share=False, debug=True)"
   ]
  }
 ],
 "metadata": {
  "kernelspec": {
   "display_name": "Python 3",
   "language": "python",
   "name": "python3"
  },
  "language_info": {
   "codemirror_mode": {
    "name": "ipython",
    "version": 3
   },
   "file_extension": ".py",
   "mimetype": "text/x-python",
   "name": "python",
   "nbconvert_exporter": "python",
   "pygments_lexer": "ipython3",
   "version": "3.12.4"
  }
 },
 "nbformat": 4,
 "nbformat_minor": 5
}
