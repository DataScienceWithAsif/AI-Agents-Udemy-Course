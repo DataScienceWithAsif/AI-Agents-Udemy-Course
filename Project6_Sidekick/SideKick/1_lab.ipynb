{
 "cells": [
  {
   "cell_type": "code",
   "execution_count": 1,
   "id": "6fef3a64",
   "metadata": {},
   "outputs": [
    {
     "name": "stdout",
     "output_type": "stream",
     "text": [
      "all ok!\n"
     ]
    }
   ],
   "source": [
    "print(\"all ok!\")"
   ]
  },
  {
   "cell_type": "code",
   "execution_count": 4,
   "id": "26a8032a",
   "metadata": {},
   "outputs": [
    {
     "name": "stdout",
     "output_type": "stream",
     "text": [
      "Collecting langgraph\n",
      "  Using cached langgraph-0.6.8-py3-none-any.whl.metadata (6.8 kB)\n",
      "Requirement already satisfied: langchain-core>=0.1 in e:\\datascience\\anaconda\\lib\\site-packages (from langgraph) (0.3.76)\n",
      "Collecting langgraph-checkpoint<3.0.0,>=2.1.0 (from langgraph)\n",
      "  Using cached langgraph_checkpoint-2.1.1-py3-none-any.whl.metadata (4.2 kB)\n",
      "Collecting langgraph-prebuilt<0.7.0,>=0.6.0 (from langgraph)\n",
      "  Using cached langgraph_prebuilt-0.6.4-py3-none-any.whl.metadata (4.5 kB)\n",
      "Collecting langgraph-sdk<0.3.0,>=0.2.2 (from langgraph)\n",
      "  Using cached langgraph_sdk-0.2.9-py3-none-any.whl.metadata (1.5 kB)\n",
      "Requirement already satisfied: pydantic>=2.7.4 in e:\\datascience\\anaconda\\lib\\site-packages (from langgraph) (2.11.9)\n",
      "Collecting xxhash>=3.5.0 (from langgraph)\n",
      "  Using cached xxhash-3.6.0-cp312-cp312-win_amd64.whl.metadata (13 kB)\n",
      "Requirement already satisfied: langsmith>=0.3.45 in e:\\datascience\\anaconda\\lib\\site-packages (from langchain-core>=0.1->langgraph) (0.4.27)\n",
      "Requirement already satisfied: tenacity!=8.4.0,<10.0.0,>=8.1.0 in e:\\datascience\\anaconda\\lib\\site-packages (from langchain-core>=0.1->langgraph) (9.1.2)\n",
      "Requirement already satisfied: jsonpatch<2.0,>=1.33 in e:\\datascience\\anaconda\\lib\\site-packages (from langchain-core>=0.1->langgraph) (1.33)\n",
      "Requirement already satisfied: PyYAML>=5.3 in e:\\datascience\\anaconda\\lib\\site-packages (from langchain-core>=0.1->langgraph) (6.0.1)\n",
      "Requirement already satisfied: typing-extensions>=4.7 in e:\\datascience\\anaconda\\lib\\site-packages (from langchain-core>=0.1->langgraph) (4.12.2)\n",
      "Requirement already satisfied: packaging>=23.2 in e:\\datascience\\anaconda\\lib\\site-packages (from langchain-core>=0.1->langgraph) (23.2)\n",
      "Collecting ormsgpack>=1.10.0 (from langgraph-checkpoint<3.0.0,>=2.1.0->langgraph)\n",
      "  Using cached ormsgpack-1.10.0-cp312-cp312-win_amd64.whl.metadata (44 kB)\n",
      "Requirement already satisfied: httpx>=0.25.2 in e:\\datascience\\anaconda\\lib\\site-packages (from langgraph-sdk<0.3.0,>=0.2.2->langgraph) (0.28.1)\n",
      "Requirement already satisfied: orjson>=3.10.1 in e:\\datascience\\anaconda\\lib\\site-packages (from langgraph-sdk<0.3.0,>=0.2.2->langgraph) (3.11.3)\n",
      "Requirement already satisfied: annotated-types>=0.6.0 in e:\\datascience\\anaconda\\lib\\site-packages (from pydantic>=2.7.4->langgraph) (0.6.0)\n",
      "Requirement already satisfied: pydantic-core==2.33.2 in e:\\datascience\\anaconda\\lib\\site-packages (from pydantic>=2.7.4->langgraph) (2.33.2)\n",
      "Requirement already satisfied: typing-inspection>=0.4.0 in e:\\datascience\\anaconda\\lib\\site-packages (from pydantic>=2.7.4->langgraph) (0.4.1)\n",
      "Requirement already satisfied: anyio in e:\\datascience\\anaconda\\lib\\site-packages (from httpx>=0.25.2->langgraph-sdk<0.3.0,>=0.2.2->langgraph) (4.10.0)\n",
      "Requirement already satisfied: certifi in e:\\datascience\\anaconda\\lib\\site-packages (from httpx>=0.25.2->langgraph-sdk<0.3.0,>=0.2.2->langgraph) (2025.1.31)\n",
      "Requirement already satisfied: httpcore==1.* in e:\\datascience\\anaconda\\lib\\site-packages (from httpx>=0.25.2->langgraph-sdk<0.3.0,>=0.2.2->langgraph) (1.0.9)\n",
      "Requirement already satisfied: idna in e:\\datascience\\anaconda\\lib\\site-packages (from httpx>=0.25.2->langgraph-sdk<0.3.0,>=0.2.2->langgraph) (3.7)\n",
      "Requirement already satisfied: h11>=0.16 in e:\\datascience\\anaconda\\lib\\site-packages (from httpcore==1.*->httpx>=0.25.2->langgraph-sdk<0.3.0,>=0.2.2->langgraph) (0.16.0)\n",
      "Requirement already satisfied: jsonpointer>=1.9 in e:\\datascience\\anaconda\\lib\\site-packages (from jsonpatch<2.0,>=1.33->langchain-core>=0.1->langgraph) (2.1)\n",
      "Requirement already satisfied: requests-toolbelt>=1.0.0 in e:\\datascience\\anaconda\\lib\\site-packages (from langsmith>=0.3.45->langchain-core>=0.1->langgraph) (1.0.0)\n",
      "Requirement already satisfied: requests>=2.0.0 in e:\\datascience\\anaconda\\lib\\site-packages (from langsmith>=0.3.45->langchain-core>=0.1->langgraph) (2.32.5)\n",
      "Requirement already satisfied: zstandard>=0.23.0 in e:\\datascience\\anaconda\\lib\\site-packages (from langsmith>=0.3.45->langchain-core>=0.1->langgraph) (0.24.0)\n",
      "Requirement already satisfied: charset_normalizer<4,>=2 in e:\\datascience\\anaconda\\lib\\site-packages (from requests>=2.0.0->langsmith>=0.3.45->langchain-core>=0.1->langgraph) (2.0.4)\n",
      "Requirement already satisfied: urllib3<3,>=1.21.1 in e:\\datascience\\anaconda\\lib\\site-packages (from requests>=2.0.0->langsmith>=0.3.45->langchain-core>=0.1->langgraph) (2.2.2)\n",
      "Requirement already satisfied: sniffio>=1.1 in e:\\datascience\\anaconda\\lib\\site-packages (from anyio->httpx>=0.25.2->langgraph-sdk<0.3.0,>=0.2.2->langgraph) (1.3.0)\n",
      "Using cached langgraph-0.6.8-py3-none-any.whl (154 kB)\n",
      "Using cached langgraph_checkpoint-2.1.1-py3-none-any.whl (43 kB)\n",
      "Using cached langgraph_prebuilt-0.6.4-py3-none-any.whl (28 kB)\n",
      "Using cached langgraph_sdk-0.2.9-py3-none-any.whl (56 kB)\n",
      "Using cached xxhash-3.6.0-cp312-cp312-win_amd64.whl (31 kB)\n",
      "Using cached ormsgpack-1.10.0-cp312-cp312-win_amd64.whl (121 kB)\n",
      "Installing collected packages: xxhash, ormsgpack, langgraph-sdk, langgraph-checkpoint, langgraph-prebuilt, langgraph\n",
      "Successfully installed langgraph-0.6.8 langgraph-checkpoint-2.1.1 langgraph-prebuilt-0.6.4 langgraph-sdk-0.2.9 ormsgpack-1.10.0 xxhash-3.6.0\n"
     ]
    }
   ],
   "source": [
    "!pip install -U langgraph"
   ]
  },
  {
   "cell_type": "code",
   "execution_count": 7,
   "id": "895232bf",
   "metadata": {},
   "outputs": [],
   "source": [
    "from typing import Annotated\n",
    "from langgraph.graph import StateGraph, START, END\n",
    "from langgraph.graph.message import add_messages\n",
    "from langchain_openai import ChatOpenAI\n",
    "from pydantic import BaseModel\n",
    "from dotenv import load_dotenv\n",
    "from IPython.display import Image, display\n",
    "import gradio as gr\n",
    "import random"
   ]
  },
  {
   "cell_type": "code",
   "execution_count": 8,
   "id": "af2bfff7",
   "metadata": {},
   "outputs": [],
   "source": [
    "# some useful contants\n",
    "nouns=[\"Codebages\",\"Unicorns\",\"Toasters\",\"Penguins\",\"Bananas\",\"Zombies\",\"Rainbows\",\"Eels\",\"Pickles\",\"Muffins\"]\n",
    "adjectives=[\"outrageous\",\"smelly\",\"pedantic\",\"moody\",\"sparkly\",\"untrustworthy\",\"sarcastic\",\"squishy\",\"hunted\"]"
   ]
  },
  {
   "cell_type": "code",
   "execution_count": 9,
   "id": "a00397f4",
   "metadata": {},
   "outputs": [
    {
     "data": {
      "text/plain": [
       "True"
      ]
     },
     "execution_count": 9,
     "metadata": {},
     "output_type": "execute_result"
    }
   ],
   "source": [
    "load_dotenv()"
   ]
  },
  {
   "cell_type": "markdown",
   "id": "83ea1e38",
   "metadata": {},
   "source": [
    "# Step1: Define the ***State Object***"
   ]
  },
  {
   "cell_type": "code",
   "execution_count": 11,
   "id": "eaf47c91",
   "metadata": {},
   "outputs": [],
   "source": [
    "class State(BaseModel):\n",
    "    \n",
    "    messages: Annotated[list, add_messages]"
   ]
  },
  {
   "cell_type": "markdown",
   "id": "d3f7fbeb",
   "metadata": {},
   "source": [
    "# Step2: Start the ***Graph Builder*** with this State class"
   ]
  },
  {
   "cell_type": "code",
   "execution_count": 23,
   "id": "c3ec83a2",
   "metadata": {},
   "outputs": [],
   "source": [
    "graph_builder=StateGraph(State) # we are passing the State class directly that represents type of things that represents the class"
   ]
  },
  {
   "cell_type": "markdown",
   "id": "e5a37f7e",
   "metadata": {},
   "source": [
    "# Step3: Create a ***Node***\n",
    "### The reducer that we set before gets automatically called to combine this reponse with previous response"
   ]
  },
  {
   "cell_type": "code",
   "execution_count": 24,
   "id": "9dba018f",
   "metadata": {},
   "outputs": [],
   "source": [
    "def our_first_node(old_state: State) -> State:\n",
    "\n",
    "    reply=f\"{random.choice(nouns)} are {random.choice(adjectives)}\"\n",
    "    message=[{\"role\":\"assistant\", \"content\":reply}]\n",
    "\n",
    "    new_state=State(messages=message)\n",
    "\n",
    "    return new_state"
   ]
  },
  {
   "cell_type": "code",
   "execution_count": 25,
   "id": "dba7169c",
   "metadata": {},
   "outputs": [
    {
     "data": {
      "text/plain": [
       "<langgraph.graph.state.StateGraph at 0x2ca5cd23140>"
      ]
     },
     "execution_count": 25,
     "metadata": {},
     "output_type": "execute_result"
    }
   ],
   "source": [
    "graph_builder.add_node(\"first_node\", our_first_node)"
   ]
  },
  {
   "cell_type": "markdown",
   "id": "84a23883",
   "metadata": {},
   "source": [
    "# Step4: Create ***Edges***"
   ]
  },
  {
   "cell_type": "code",
   "execution_count": 26,
   "id": "5f973d92",
   "metadata": {},
   "outputs": [
    {
     "data": {
      "text/plain": [
       "<langgraph.graph.state.StateGraph at 0x2ca5cd23140>"
      ]
     },
     "execution_count": 26,
     "metadata": {},
     "output_type": "execute_result"
    }
   ],
   "source": [
    "graph_builder.add_edge(START, \"first_node\")\n",
    "graph_builder.add_edge(\"first_node\", END)"
   ]
  },
  {
   "cell_type": "markdown",
   "id": "d578bd5c",
   "metadata": {},
   "source": [
    "# ***Compile*** the Graph"
   ]
  },
  {
   "cell_type": "code",
   "execution_count": 27,
   "id": "923a02ca",
   "metadata": {},
   "outputs": [],
   "source": [
    "graph=graph_builder.compile()"
   ]
  },
  {
   "cell_type": "code",
   "execution_count": 28,
   "id": "213b805b",
   "metadata": {},
   "outputs": [
    {
     "data": {
      "image/png": "[encoded data removed]",
      "text/plain": [
       "<IPython.core.display.Image object>"
      ]
     },
     "metadata": {},
     "output_type": "display_data"
    }
   ],
   "source": [
    "display(Image(graph.get_graph().draw_mermaid_png()))"
   ]
  },
  {
   "cell_type": "code",
   "execution_count": 29,
   "id": "1223aec1",
   "metadata": {},
   "outputs": [],
   "source": [
    "def chat(user_input: str, history):\n",
    "    message={\"role\":\"user\", \"content\":user_input}\n",
    "    messages=[message]\n",
    "    state=State(messages=messages)\n",
    "    result=graph.invoke(state)\n",
    "    print(result)\n",
    "\n",
    "    return result[\"messages\"][-1].content"
   ]
  },
  {
   "cell_type": "code",
   "execution_count": 30,
   "id": "a24bb71c",
   "metadata": {},
   "outputs": [
    {
     "name": "stdout",
     "output_type": "stream",
     "text": [
      "* Running on local URL:  http://127.0.0.1:7860\n",
      "* To create a public link, set `share=True` in `launch()`.\n"
     ]
    },
    {
     "data": {
      "text/html": [
       "<div><iframe src=\"http://127.0.0.1:7860/\" width=\"100%\" height=\"500\" allow=\"autoplay; camera; microphone; clipboard-read; clipboard-write;\" frameborder=\"0\" allowfullscreen></iframe></div>"
      ],
      "text/plain": [
       "<IPython.core.display.HTML object>"
      ]
     },
     "metadata": {},
     "output_type": "display_data"
    },
    {
     "name": "stdout",
     "output_type": "stream",
     "text": [
      "{'messages': [HumanMessage(content='Hi There', additional_kwargs={}, response_metadata={}, id='8474b6e3-1ed8-498e-8704-c2c48a18a434'), AIMessage(content='Pickles are squishy', additional_kwargs={}, response_metadata={}, id='d29d6077-6616-4974-8f64-7719ff88647e')]}\n",
      "{'messages': [HumanMessage(content=\"what's up \", additional_kwargs={}, response_metadata={}, id='051f9fb8-ce62-4d05-9f37-f68b802878fb'), AIMessage(content='Codebages are moody', additional_kwargs={}, response_metadata={}, id='89702e9a-f024-4e1f-98da-1ceb3338e8eb')]}\n",
      "{'messages': [HumanMessage(content='no way', additional_kwargs={}, response_metadata={}, id='ce7b78e0-e34a-40a0-ae31-1fb747fecbca'), AIMessage(content='Muffins are moody', additional_kwargs={}, response_metadata={}, id='b77b4b76-9661-42a4-9cb1-f7594fae1e2f')]}\n",
      "Keyboard interruption in main thread... closing server.\n"
     ]
    },
    {
     "data": {
      "text/plain": []
     },
     "execution_count": 30,
     "metadata": {},
     "output_type": "execute_result"
    }
   ],
   "source": [
    "gr.ChatInterface(chat, type=\"messages\").launch(share=False, debug=True)"
   ]
  },
  {
   "cell_type": "markdown",
   "id": "480a25bb",
   "metadata": {},
   "source": [
    "# Chat with LLM(Openai)"
   ]
  },
  {
   "cell_type": "code",
   "execution_count": 35,
   "id": "61017cfa",
   "metadata": {},
   "outputs": [],
   "source": [
    "class State(BaseModel):\n",
    "    messages: Annotated[list, add_messages]"
   ]
  },
  {
   "cell_type": "code",
   "execution_count": 36,
   "id": "a4845ee5",
   "metadata": {},
   "outputs": [],
   "source": [
    "graph_builder=StateGraph(State)"
   ]
  },
  {
   "cell_type": "code",
   "execution_count": 37,
   "id": "43293c1d",
   "metadata": {},
   "outputs": [],
   "source": [
    "llm=ChatOpenAI(model=\"gpt-4o-mini\")"
   ]
  },
  {
   "cell_type": "code",
   "execution_count": 38,
   "id": "335c4dba",
   "metadata": {},
   "outputs": [
    {
     "data": {
      "text/plain": [
       "<langgraph.graph.state.StateGraph at 0x2ca5d917ec0>"
      ]
     },
     "execution_count": 38,
     "metadata": {},
     "output_type": "execute_result"
    }
   ],
   "source": [
    "def chatbot_node(old_state: State) -> State:\n",
    "\n",
    "    response=llm.invoke(old_state.messages)\n",
    "    new_state=State(messages=[response])\n",
    "\n",
    "    return new_state\n",
    "\n",
    "graph_builder.add_node(\"chatbot_node\", chatbot_node)"
   ]
  },
  {
   "cell_type": "code",
   "execution_count": 39,
   "id": "cf1c230f",
   "metadata": {},
   "outputs": [
    {
     "data": {
      "text/plain": [
       "<langgraph.graph.state.StateGraph at 0x2ca5d917ec0>"
      ]
     },
     "execution_count": 39,
     "metadata": {},
     "output_type": "execute_result"
    }
   ],
   "source": [
    "graph_builder.add_edge(START, \"chatbot_node\")\n",
    "graph_builder.add_edge(\"chatbot_node\", END)"
   ]
  },
  {
   "cell_type": "code",
   "execution_count": 40,
   "id": "8f6b074b",
   "metadata": {},
   "outputs": [],
   "source": [
    "graph=graph_builder.compile()"
   ]
  },
  {
   "cell_type": "code",
   "execution_count": 41,
   "id": "226bc885",
   "metadata": {},
   "outputs": [
    {
     "data": {
      "image/png": "[encoded data removed]",
      "text/plain": [
       "<IPython.core.display.Image object>"
      ]
     },
     "metadata": {},
     "output_type": "display_data"
    }
   ],
   "source": [
    "display(Image(graph.get_graph().draw_mermaid_png()))"
   ]
  },
  {
   "cell_type": "code",
   "execution_count": 42,
   "id": "78a4b3ac",
   "metadata": {},
   "outputs": [],
   "source": [
    "def chat(user_input: str, history):\n",
    "\n",
    "    message={\"role\":\"user\", \"content\":user_input}\n",
    "    state=State(messages=[message])\n",
    "\n",
    "    result=graph.invoke(state)\n",
    "    print(result)\n",
    "\n",
    "    return result[\"messages\"][-1].content"
   ]
  },
  {
   "cell_type": "code",
   "execution_count": 43,
   "id": "30c455cf",
   "metadata": {},
   "outputs": [
    {
     "name": "stdout",
     "output_type": "stream",
     "text": [
      "* Running on local URL:  http://127.0.0.1:7860\n",
      "* To create a public link, set `share=True` in `launch()`.\n"
     ]
    },
    {
     "data": {
      "text/html": [
       "<div><iframe src=\"http://127.0.0.1:7860/\" width=\"100%\" height=\"500\" allow=\"autoplay; camera; microphone; clipboard-read; clipboard-write;\" frameborder=\"0\" allowfullscreen></iframe></div>"
      ],
      "text/plain": [
       "<IPython.core.display.HTML object>"
      ]
     },
     "metadata": {},
     "output_type": "display_data"
    },
    {
     "name": "stdout",
     "output_type": "stream",
     "text": [
      "{'messages': [HumanMessage(content='Hi', additional_kwargs={}, response_metadata={}, id='9fd9e4f5-81b6-4bb3-9417-07bbc8d057b4'), AIMessage(content='Hello! How can I assist you today?', additional_kwargs={'refusal': None}, response_metadata={'token_usage': {'completion_tokens': 9, 'prompt_tokens': 8, 'total_tokens': 17, 'completion_tokens_details': {'accepted_prediction_tokens': 0, 'audio_tokens': 0, 'reasoning_tokens': 0, 'rejected_prediction_tokens': 0}, 'prompt_tokens_details': {'audio_tokens': 0, 'cached_tokens': 0}}, 'model_name': 'gpt-4o-mini-2024-07-18', 'system_fingerprint': 'fp_560af6e559', 'id': 'chatcmpl-CN7iqxHufbx4QqRrkzofD3cum0j9W', 'service_tier': 'default', 'finish_reason': 'stop', 'logprobs': None}, id='run--c6942d62-6d34-40a3-b4be-de31fffeb940-0', usage_metadata={'input_tokens': 8, 'output_tokens': 9, 'total_tokens': 17, 'input_token_details': {'audio': 0, 'cache_read': 0}, 'output_token_details': {'audio': 0, 'reasoning': 0}})]}\n",
      "{'messages': [HumanMessage(content='what  is rising challenge in the world nowadays?', additional_kwargs={}, response_metadata={}, id='75d37862-178e-49f2-98dd-98afa7620e4c'), AIMessage(content='As of my last update in October 2023, several rising challenges are confronting the world. Here are some key issues:\\n\\n1. **Climate Change**: The impacts of climate change are becoming increasingly severe, with more extreme weather events, rising sea levels, and biodiversity loss. Addressing climate change requires coordinated global efforts to reduce greenhouse gas emissions and adapt to changing environmental conditions.\\n\\n2. **Food Security**: With a growing global population and climate-related disruptions to agriculture, food security is under threat. Issues such as rising food prices, supply chain disruptions, and the need for sustainable agricultural practices are becoming more prominent.\\n\\n3. **Pandemic Preparedness and Health Security**: The COVID-19 pandemic highlighted vulnerabilities in global health systems. Ensuring preparedness for future pandemics, addressing health inequities, and increasing access to healthcare are critical challenges.\\n\\n4. **Geopolitical Tensions**: Increasingly strained international relations, particularly among major powers, pose risks of conflict and instability. Issues such as trade wars, territorial disputes, and cybersecurity threats are significant concerns.\\n\\n5. **Economic Inequality**: Rising inequality within and between countries is leading to social unrest and undermining economic growth. Addressing wealth and income disparities is essential for social stability and sustainable development.\\n\\n6. **Technological Disruption**: Rapid advancements in technology, such as artificial intelligence and automation, are transforming economies and job markets. Concerns about job displacement, data privacy, and ethical implications of technology are rising.\\n\\n7. **Migration and Refugee Crises**: Conflicts, environmental degradation, and economic instability are driving increased migration and displacement, leading to humanitarian challenges and social tensions in host countries.\\n\\n8. **Mental Health**: The global mental health crisis has been exacerbated by the COVID-19 pandemic, social isolation, and economic uncertainty. There is a growing need for mental health resources and support.\\n\\n9. **Water Scarcity**: Freshwater resources are becoming increasingly scarce due to overuse, pollution, and climate change. Water scarcity poses risks to health, agriculture, and ecosystems.\\n\\n10. **Disinformation and Misinformation**: The rise of social media and digital communication has led to the rapid spread of false information, impacting public opinion, trust in institutions, and democratic processes.\\n\\nAddressing these challenges requires international cooperation, innovative solutions, and a commitment to addressing the underlying systemic issues.', additional_kwargs={'refusal': None}, response_metadata={'token_usage': {'completion_tokens': 479, 'prompt_tokens': 17, 'total_tokens': 496, 'completion_tokens_details': {'accepted_prediction_tokens': 0, 'audio_tokens': 0, 'reasoning_tokens': 0, 'rejected_prediction_tokens': 0}, 'prompt_tokens_details': {'audio_tokens': 0, 'cached_tokens': 0}}, 'model_name': 'gpt-4o-mini-2024-07-18', 'system_fingerprint': 'fp_560af6e559', 'id': 'chatcmpl-CN7jnuM1kmbT03ErRiHP9c252u72O', 'service_tier': 'default', 'finish_reason': 'stop', 'logprobs': None}, id='run--b2c61de1-ad66-49ad-9c45-da5e237b02c1-0', usage_metadata={'input_tokens': 17, 'output_tokens': 479, 'total_tokens': 496, 'input_token_details': {'audio': 0, 'cache_read': 0}, 'output_token_details': {'audio': 0, 'reasoning': 0}})]}\n",
      "{'messages': [HumanMessage(content='I am M.Asif', additional_kwargs={}, response_metadata={}, id='1fe225b6-f67e-4219-b8e8-dbae2563694e'), AIMessage(content='Hello, M. Asif! How can I assist you today?', additional_kwargs={'refusal': None}, response_metadata={'token_usage': {'completion_tokens': 14, 'prompt_tokens': 12, 'total_tokens': 26, 'completion_tokens_details': {'accepted_prediction_tokens': 0, 'audio_tokens': 0, 'reasoning_tokens': 0, 'rejected_prediction_tokens': 0}, 'prompt_tokens_details': {'audio_tokens': 0, 'cached_tokens': 0}}, 'model_name': 'gpt-4o-mini-2024-07-18', 'system_fingerprint': 'fp_51db84afab', 'id': 'chatcmpl-CN7kKQptx0TxiJr1KPk9rSYizSCiP', 'service_tier': 'default', 'finish_reason': 'stop', 'logprobs': None}, id='run--baea1789-f34b-4259-8382-c5e6f752e564-0', usage_metadata={'input_tokens': 12, 'output_tokens': 14, 'total_tokens': 26, 'input_token_details': {'audio': 0, 'cache_read': 0}, 'output_token_details': {'audio': 0, 'reasoning': 0}})]}\n",
      "{'messages': [HumanMessage(content='what is my name', additional_kwargs={}, response_metadata={}, id='cf5214f3-af66-42af-b4fb-a9f66bc03c10'), AIMessage(content=\"I'm sorry, but I don't have access to personal data about individuals unless it has been shared with me in the course of our conversation. Therefore, I don't know your name. If you'd like to share it, feel free to do so!\", additional_kwargs={'refusal': None}, response_metadata={'token_usage': {'completion_tokens': 48, 'prompt_tokens': 11, 'total_tokens': 59, 'completion_tokens_details': {'accepted_prediction_tokens': 0, 'audio_tokens': 0, 'reasoning_tokens': 0, 'rejected_prediction_tokens': 0}, 'prompt_tokens_details': {'audio_tokens': 0, 'cached_tokens': 0}}, 'model_name': 'gpt-4o-mini-2024-07-18', 'system_fingerprint': 'fp_560af6e559', 'id': 'chatcmpl-CN7kSaf0Tic3ImPuR6BSgAikaJ0VN', 'service_tier': 'default', 'finish_reason': 'stop', 'logprobs': None}, id='run--84493bbb-70df-47e3-9dd2-4da8a61a3e13-0', usage_metadata={'input_tokens': 11, 'output_tokens': 48, 'total_tokens': 59, 'input_token_details': {'audio': 0, 'cache_read': 0}, 'output_token_details': {'audio': 0, 'reasoning': 0}})]}\n",
      "Keyboard interruption in main thread... closing server.\n"
     ]
    },
    {
     "data": {
      "text/plain": []
     },
     "execution_count": 43,
     "metadata": {},
     "output_type": "execute_result"
    }
   ],
   "source": [
    "gr.ChatInterface(chat, type=\"messages\").launch(share=False, debug=True)"
   ]
  }
 ],
 "metadata": {
  "kernelspec": {
   "display_name": "Python 3",
   "language": "python",
   "name": "python3"
  },
  "language_info": {
   "codemirror_mode": {
    "name": "ipython",
    "version": 3
   },
   "file_extension": ".py",
   "mimetype": "text/x-python",
   "name": "python",
   "nbconvert_exporter": "python",
   "pygments_lexer": "ipython3",
   "version": "3.12.4"
  }
 },
 "nbformat": 4,
 "nbformat_minor": 5
}
