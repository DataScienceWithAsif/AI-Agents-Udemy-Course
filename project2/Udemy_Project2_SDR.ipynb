{
  "nbformat": 4,
  "nbformat_minor": 0,
  "metadata": {
    "colab": {
      "provenance": []
    },
    "kernelspec": {
      "name": "python3",
      "display_name": "Python 3"
    },
    "language_info": {
      "name": "python"
    }
  },
  "cells": [
    {
      "cell_type": "code",
      "execution_count": 73,
      "metadata": {
        "colab": {
          "base_uri": "https://localhost:8080/"
        },
        "collapsed": true,
        "id": "aC4SEu5_nuXo",
        "outputId": "3f05671c-53c7-4517-876b-ea004b52fcb3"
      },
      "outputs": [
        {
          "output_type": "stream",
          "name": "stdout",
          "text": [
            "Requirement already satisfied: openai-agents[litellm] in /usr/local/lib/python3.12/dist-packages (0.3.1)\n",
            "Requirement already satisfied: griffe<2,>=1.5.6 in /usr/local/lib/python3.12/dist-packages (from openai-agents[litellm]) (1.14.0)\n",
            "Requirement already satisfied: mcp<2,>=1.11.0 in /usr/local/lib/python3.12/dist-packages (from openai-agents[litellm]) (1.13.1)\n",
            "Requirement already satisfied: openai<2,>=1.107.1 in /usr/local/lib/python3.12/dist-packages (from openai-agents[litellm]) (1.108.1)\n",
            "Requirement already satisfied: pydantic<3,>=2.10 in /usr/local/lib/python3.12/dist-packages (from openai-agents[litellm]) (2.11.7)\n",
            "Requirement already satisfied: requests<3,>=2.0 in /usr/local/lib/python3.12/dist-packages (from openai-agents[litellm]) (2.32.4)\n",
            "Requirement already satisfied: types-requests<3,>=2.0 in /usr/local/lib/python3.12/dist-packages (from openai-agents[litellm]) (2.32.4.20250913)\n",
            "Requirement already satisfied: typing-extensions<5,>=4.12.2 in /usr/local/lib/python3.12/dist-packages (from openai-agents[litellm]) (4.15.0)\n",
            "Requirement already satisfied: litellm<2,>=1.67.4.post1 in /usr/local/lib/python3.12/dist-packages (from openai-agents[litellm]) (1.77.1)\n",
            "Requirement already satisfied: colorama>=0.4 in /usr/local/lib/python3.12/dist-packages (from griffe<2,>=1.5.6->openai-agents[litellm]) (0.4.6)\n",
            "Requirement already satisfied: aiohttp>=3.10 in /usr/local/lib/python3.12/dist-packages (from litellm<2,>=1.67.4.post1->openai-agents[litellm]) (3.12.15)\n",
            "Requirement already satisfied: click in /usr/local/lib/python3.12/dist-packages (from litellm<2,>=1.67.4.post1->openai-agents[litellm]) (8.2.1)\n",
            "Requirement already satisfied: fastuuid>=0.12.0 in /usr/local/lib/python3.12/dist-packages (from litellm<2,>=1.67.4.post1->openai-agents[litellm]) (0.12.0)\n",
            "Requirement already satisfied: httpx>=0.23.0 in /usr/local/lib/python3.12/dist-packages (from litellm<2,>=1.67.4.post1->openai-agents[litellm]) (0.28.1)\n",
            "Requirement already satisfied: importlib-metadata>=6.8.0 in /usr/local/lib/python3.12/dist-packages (from litellm<2,>=1.67.4.post1->openai-agents[litellm]) (8.7.0)\n",
            "Requirement already satisfied: jinja2<4.0.0,>=3.1.2 in /usr/local/lib/python3.12/dist-packages (from litellm<2,>=1.67.4.post1->openai-agents[litellm]) (3.1.6)\n",
            "Requirement already satisfied: jsonschema<5.0.0,>=4.22.0 in /usr/local/lib/python3.12/dist-packages (from litellm<2,>=1.67.4.post1->openai-agents[litellm]) (4.25.1)\n",
            "Requirement already satisfied: python-dotenv>=0.2.0 in /usr/local/lib/python3.12/dist-packages (from litellm<2,>=1.67.4.post1->openai-agents[litellm]) (1.1.1)\n",
            "Requirement already satisfied: tiktoken>=0.7.0 in /usr/local/lib/python3.12/dist-packages (from litellm<2,>=1.67.4.post1->openai-agents[litellm]) (0.11.0)\n",
            "Requirement already satisfied: tokenizers in /usr/local/lib/python3.12/dist-packages (from litellm<2,>=1.67.4.post1->openai-agents[litellm]) (0.22.0)\n",
            "Requirement already satisfied: anyio>=4.5 in /usr/local/lib/python3.12/dist-packages (from mcp<2,>=1.11.0->openai-agents[litellm]) (4.10.0)\n",
            "Requirement already satisfied: httpx-sse>=0.4 in /usr/local/lib/python3.12/dist-packages (from mcp<2,>=1.11.0->openai-agents[litellm]) (0.4.1)\n",
            "Requirement already satisfied: pydantic-settings>=2.5.2 in /usr/local/lib/python3.12/dist-packages (from mcp<2,>=1.11.0->openai-agents[litellm]) (2.10.1)\n",
            "Requirement already satisfied: python-multipart>=0.0.9 in /usr/local/lib/python3.12/dist-packages (from mcp<2,>=1.11.0->openai-agents[litellm]) (0.0.20)\n",
            "Requirement already satisfied: sse-starlette>=1.6.1 in /usr/local/lib/python3.12/dist-packages (from mcp<2,>=1.11.0->openai-agents[litellm]) (3.0.2)\n",
            "Requirement already satisfied: starlette>=0.27 in /usr/local/lib/python3.12/dist-packages (from mcp<2,>=1.11.0->openai-agents[litellm]) (0.47.3)\n",
            "Requirement already satisfied: uvicorn>=0.31.1 in /usr/local/lib/python3.12/dist-packages (from mcp<2,>=1.11.0->openai-agents[litellm]) (0.35.0)\n",
            "Requirement already satisfied: distro<2,>=1.7.0 in /usr/local/lib/python3.12/dist-packages (from openai<2,>=1.107.1->openai-agents[litellm]) (1.9.0)\n",
            "Requirement already satisfied: jiter<1,>=0.4.0 in /usr/local/lib/python3.12/dist-packages (from openai<2,>=1.107.1->openai-agents[litellm]) (0.10.0)\n",
            "Requirement already satisfied: sniffio in /usr/local/lib/python3.12/dist-packages (from openai<2,>=1.107.1->openai-agents[litellm]) (1.3.1)\n",
            "Requirement already satisfied: tqdm>4 in /usr/local/lib/python3.12/dist-packages (from openai<2,>=1.107.1->openai-agents[litellm]) (4.67.1)\n",
            "Requirement already satisfied: annotated-types>=0.6.0 in /usr/local/lib/python3.12/dist-packages (from pydantic<3,>=2.10->openai-agents[litellm]) (0.7.0)\n",
            "Requirement already satisfied: pydantic-core==2.33.2 in /usr/local/lib/python3.12/dist-packages (from pydantic<3,>=2.10->openai-agents[litellm]) (2.33.2)\n",
            "Requirement already satisfied: typing-inspection>=0.4.0 in /usr/local/lib/python3.12/dist-packages (from pydantic<3,>=2.10->openai-agents[litellm]) (0.4.1)\n",
            "Requirement already satisfied: charset_normalizer<4,>=2 in /usr/local/lib/python3.12/dist-packages (from requests<3,>=2.0->openai-agents[litellm]) (3.4.3)\n",
            "Requirement already satisfied: idna<4,>=2.5 in /usr/local/lib/python3.12/dist-packages (from requests<3,>=2.0->openai-agents[litellm]) (3.10)\n",
            "Requirement already satisfied: urllib3<3,>=1.21.1 in /usr/local/lib/python3.12/dist-packages (from requests<3,>=2.0->openai-agents[litellm]) (2.5.0)\n",
            "Requirement already satisfied: certifi>=2017.4.17 in /usr/local/lib/python3.12/dist-packages (from requests<3,>=2.0->openai-agents[litellm]) (2025.8.3)\n",
            "Requirement already satisfied: aiohappyeyeballs>=2.5.0 in /usr/local/lib/python3.12/dist-packages (from aiohttp>=3.10->litellm<2,>=1.67.4.post1->openai-agents[litellm]) (2.6.1)\n",
            "Requirement already satisfied: aiosignal>=1.4.0 in /usr/local/lib/python3.12/dist-packages (from aiohttp>=3.10->litellm<2,>=1.67.4.post1->openai-agents[litellm]) (1.4.0)\n",
            "Requirement already satisfied: attrs>=17.3.0 in /usr/local/lib/python3.12/dist-packages (from aiohttp>=3.10->litellm<2,>=1.67.4.post1->openai-agents[litellm]) (25.3.0)\n",
            "Requirement already satisfied: frozenlist>=1.1.1 in /usr/local/lib/python3.12/dist-packages (from aiohttp>=3.10->litellm<2,>=1.67.4.post1->openai-agents[litellm]) (1.7.0)\n",
            "Requirement already satisfied: multidict<7.0,>=4.5 in /usr/local/lib/python3.12/dist-packages (from aiohttp>=3.10->litellm<2,>=1.67.4.post1->openai-agents[litellm]) (6.6.4)\n",
            "Requirement already satisfied: propcache>=0.2.0 in /usr/local/lib/python3.12/dist-packages (from aiohttp>=3.10->litellm<2,>=1.67.4.post1->openai-agents[litellm]) (0.3.2)\n",
            "Requirement already satisfied: yarl<2.0,>=1.17.0 in /usr/local/lib/python3.12/dist-packages (from aiohttp>=3.10->litellm<2,>=1.67.4.post1->openai-agents[litellm]) (1.20.1)\n",
            "Requirement already satisfied: httpcore==1.* in /usr/local/lib/python3.12/dist-packages (from httpx>=0.23.0->litellm<2,>=1.67.4.post1->openai-agents[litellm]) (1.0.9)\n",
            "Requirement already satisfied: h11>=0.16 in /usr/local/lib/python3.12/dist-packages (from httpcore==1.*->httpx>=0.23.0->litellm<2,>=1.67.4.post1->openai-agents[litellm]) (0.16.0)\n",
            "Requirement already satisfied: zipp>=3.20 in /usr/local/lib/python3.12/dist-packages (from importlib-metadata>=6.8.0->litellm<2,>=1.67.4.post1->openai-agents[litellm]) (3.23.0)\n",
            "Requirement already satisfied: MarkupSafe>=2.0 in /usr/local/lib/python3.12/dist-packages (from jinja2<4.0.0,>=3.1.2->litellm<2,>=1.67.4.post1->openai-agents[litellm]) (3.0.2)\n",
            "Requirement already satisfied: jsonschema-specifications>=2023.03.6 in /usr/local/lib/python3.12/dist-packages (from jsonschema<5.0.0,>=4.22.0->litellm<2,>=1.67.4.post1->openai-agents[litellm]) (2025.9.1)\n",
            "Requirement already satisfied: referencing>=0.28.4 in /usr/local/lib/python3.12/dist-packages (from jsonschema<5.0.0,>=4.22.0->litellm<2,>=1.67.4.post1->openai-agents[litellm]) (0.36.2)\n",
            "Requirement already satisfied: rpds-py>=0.7.1 in /usr/local/lib/python3.12/dist-packages (from jsonschema<5.0.0,>=4.22.0->litellm<2,>=1.67.4.post1->openai-agents[litellm]) (0.27.1)\n",
            "Requirement already satisfied: regex>=2022.1.18 in /usr/local/lib/python3.12/dist-packages (from tiktoken>=0.7.0->litellm<2,>=1.67.4.post1->openai-agents[litellm]) (2024.11.6)\n",
            "Requirement already satisfied: huggingface-hub<1.0,>=0.16.4 in /usr/local/lib/python3.12/dist-packages (from tokenizers->litellm<2,>=1.67.4.post1->openai-agents[litellm]) (0.34.4)\n",
            "Requirement already satisfied: filelock in /usr/local/lib/python3.12/dist-packages (from huggingface-hub<1.0,>=0.16.4->tokenizers->litellm<2,>=1.67.4.post1->openai-agents[litellm]) (3.19.1)\n",
            "Requirement already satisfied: fsspec>=2023.5.0 in /usr/local/lib/python3.12/dist-packages (from huggingface-hub<1.0,>=0.16.4->tokenizers->litellm<2,>=1.67.4.post1->openai-agents[litellm]) (2025.3.0)\n",
            "Requirement already satisfied: packaging>=20.9 in /usr/local/lib/python3.12/dist-packages (from huggingface-hub<1.0,>=0.16.4->tokenizers->litellm<2,>=1.67.4.post1->openai-agents[litellm]) (25.0)\n",
            "Requirement already satisfied: pyyaml>=5.1 in /usr/local/lib/python3.12/dist-packages (from huggingface-hub<1.0,>=0.16.4->tokenizers->litellm<2,>=1.67.4.post1->openai-agents[litellm]) (6.0.2)\n",
            "Requirement already satisfied: hf-xet<2.0.0,>=1.1.3 in /usr/local/lib/python3.12/dist-packages (from huggingface-hub<1.0,>=0.16.4->tokenizers->litellm<2,>=1.67.4.post1->openai-agents[litellm]) (1.1.9)\n"
          ]
        }
      ],
      "source": [
        "!pip install \"openai-agents[litellm]\""
      ]
    },
    {
      "cell_type": "code",
      "source": [
        "!pip install openai typing sendgrid"
      ],
      "metadata": {
        "colab": {
          "base_uri": "https://localhost:8080/"
        },
        "collapsed": true,
        "id": "p4sjGuEjo597",
        "outputId": "00ba51bd-0e80-4bb4-f291-4d3ac610b37c"
      },
      "execution_count": 74,
      "outputs": [
        {
          "output_type": "stream",
          "name": "stdout",
          "text": [
            "Requirement already satisfied: openai in /usr/local/lib/python3.12/dist-packages (1.108.1)\n",
            "Requirement already satisfied: typing in /usr/local/lib/python3.12/dist-packages (3.7.4.3)\n",
            "Requirement already satisfied: sendgrid in /usr/local/lib/python3.12/dist-packages (6.12.5)\n",
            "Requirement already satisfied: anyio<5,>=3.5.0 in /usr/local/lib/python3.12/dist-packages (from openai) (4.10.0)\n",
            "Requirement already satisfied: distro<2,>=1.7.0 in /usr/local/lib/python3.12/dist-packages (from openai) (1.9.0)\n",
            "Requirement already satisfied: httpx<1,>=0.23.0 in /usr/local/lib/python3.12/dist-packages (from openai) (0.28.1)\n",
            "Requirement already satisfied: jiter<1,>=0.4.0 in /usr/local/lib/python3.12/dist-packages (from openai) (0.10.0)\n",
            "Requirement already satisfied: pydantic<3,>=1.9.0 in /usr/local/lib/python3.12/dist-packages (from openai) (2.11.7)\n",
            "Requirement already satisfied: sniffio in /usr/local/lib/python3.12/dist-packages (from openai) (1.3.1)\n",
            "Requirement already satisfied: tqdm>4 in /usr/local/lib/python3.12/dist-packages (from openai) (4.67.1)\n",
            "Requirement already satisfied: typing-extensions<5,>=4.11 in /usr/local/lib/python3.12/dist-packages (from openai) (4.15.0)\n",
            "Requirement already satisfied: python-http-client>=3.2.1 in /usr/local/lib/python3.12/dist-packages (from sendgrid) (3.3.7)\n",
            "Requirement already satisfied: cryptography>=45.0.6 in /usr/local/lib/python3.12/dist-packages (from sendgrid) (46.0.1)\n",
            "Requirement already satisfied: werkzeug>=2.2.0 in /usr/local/lib/python3.12/dist-packages (from sendgrid) (3.1.3)\n",
            "Requirement already satisfied: idna>=2.8 in /usr/local/lib/python3.12/dist-packages (from anyio<5,>=3.5.0->openai) (3.10)\n",
            "Requirement already satisfied: cffi>=2.0.0 in /usr/local/lib/python3.12/dist-packages (from cryptography>=45.0.6->sendgrid) (2.0.0)\n",
            "Requirement already satisfied: certifi in /usr/local/lib/python3.12/dist-packages (from httpx<1,>=0.23.0->openai) (2025.8.3)\n",
            "Requirement already satisfied: httpcore==1.* in /usr/local/lib/python3.12/dist-packages (from httpx<1,>=0.23.0->openai) (1.0.9)\n",
            "Requirement already satisfied: h11>=0.16 in /usr/local/lib/python3.12/dist-packages (from httpcore==1.*->httpx<1,>=0.23.0->openai) (0.16.0)\n",
            "Requirement already satisfied: annotated-types>=0.6.0 in /usr/local/lib/python3.12/dist-packages (from pydantic<3,>=1.9.0->openai) (0.7.0)\n",
            "Requirement already satisfied: pydantic-core==2.33.2 in /usr/local/lib/python3.12/dist-packages (from pydantic<3,>=1.9.0->openai) (2.33.2)\n",
            "Requirement already satisfied: typing-inspection>=0.4.0 in /usr/local/lib/python3.12/dist-packages (from pydantic<3,>=1.9.0->openai) (0.4.1)\n",
            "Requirement already satisfied: MarkupSafe>=2.1.1 in /usr/local/lib/python3.12/dist-packages (from werkzeug>=2.2.0->sendgrid) (3.0.2)\n",
            "Requirement already satisfied: pycparser in /usr/local/lib/python3.12/dist-packages (from cffi>=2.0.0->cryptography>=45.0.6->sendgrid) (2.23)\n"
          ]
        }
      ]
    },
    {
      "cell_type": "code",
      "source": [
        "from agents import Agent, Runner, trace, function_tool\n",
        "from openai.types.responses import ResponseTextDeltaEvent\n",
        "from typing import Dict\n",
        "import sendgrid\n",
        "from sendgrid.helpers.mail import Mail, Email, To, Content\n",
        "import os\n",
        "import warnings\n",
        "warnings.filterwarnings(\"ignore\")\n",
        "import asyncio"
      ],
      "metadata": {
        "id": "-BvQe2R9pKTH"
      },
      "execution_count": 75,
      "outputs": []
    },
    {
      "cell_type": "markdown",
      "source": [
        "# Step1: ***Agent workflow***"
      ],
      "metadata": {
        "id": "KzwsM0yBvvM9"
      }
    },
    {
      "cell_type": "code",
      "source": [
        "agent1_inst=\"You are a sales agent working for ComplAI, \\\n",
        "a company that provides a SaaS tool for ensuring SOC2 compliance and preparing for audits, powered by AI. \\\n",
        "You write professional, serious cold emails.\"\n",
        "\n",
        "agent2_inst=\"You are a humorous, engaging sales agent working for ComplAI.\\\n",
        "a company that provides a SaaS tool for ensuring SOC2 compliance and preparing for audits, powered by AI. \\\n",
        "You write witty,engaging cold emails that are likely to get response.\"\n",
        "\n",
        "agent3_inst=\"You are a busy sales agent working for ComplAI, \\\n",
        "a company that provides a SaaS tool for ensuring SOC2 compliance and preparing for audits, powered by AI. \\\n",
        "You write concise, to the point cold emails.\""
      ],
      "metadata": {
        "id": "xz7avUVav01k"
      },
      "execution_count": 76,
      "outputs": []
    },
    {
      "cell_type": "code",
      "source": [
        "from google.colab import userdata\n",
        "\n",
        "os.environ[\"GOOGLE_API_KEY\"]=userdata.get(\"GOOGLE_API_KEY\")\n",
        "os.environ[\"OPENAI_API_KEY\"]=userdata.get(\"OPENAI_API_KEY\")"
      ],
      "metadata": {
        "id": "0IbcfNgkx2Th"
      },
      "execution_count": 77,
      "outputs": []
    },
    {
      "cell_type": "code",
      "source": [
        "sales_agent1=Agent(\n",
        "    name=\"Professional Sales Agent\",\n",
        "    instructions=agent1_inst,\n",
        "    model=\"litellm/gemini/gemini-2.5-flash\"\n",
        ")\n",
        "\n",
        "sales_agent2=Agent(\n",
        "    name=\"Engaging Sales Agent\",\n",
        "    instructions=agent2_inst,\n",
        "    model=\"litellm/gemini/gemini-2.5-flash\"\n",
        ")\n",
        "\n",
        "sales_agent3=Agent(\n",
        "    name=\"Busy Sales Agent\",\n",
        "    instructions=agent3_inst,\n",
        "    model=\"litellm/gemini/gemini-2.5-flash\"\n",
        ")"
      ],
      "metadata": {
        "id": "0I9oyuNOxi2N"
      },
      "execution_count": 78,
      "outputs": []
    },
    {
      "cell_type": "code",
      "source": [
        "result=Runner.run_streamed(sales_agent1, \"write a cold sales email\")\n",
        "# Above returns a coroutine as it is Async function\n",
        "async for event in result.stream_events():\n",
        "  if event.type==\"raw_response_event\" and isinstance(event.data, ResponseTextDeltaEvent):\n",
        "    print(event.data.delta, end=\"\", flush=True)"
      ],
      "metadata": {
        "colab": {
          "base_uri": "https://localhost:8080/"
        },
        "collapsed": true,
        "id": "LJ6hALQ_yUpg",
        "outputId": "a501543d-1afb-4e3c-b5d0-a15dac106a0d"
      },
      "execution_count": 79,
      "outputs": [
        {
          "output_type": "stream",
          "name": "stderr",
          "text": [
            "WARNING:openai.agents:OPENAI_API_KEY is not set, skipping trace export\n"
          ]
        },
        {
          "output_type": "stream",
          "name": "stdout",
          "text": [
            "Subject: Streamlining SOC2 Compliance & Audit Readiness for [Company Name]\n",
            "\n",
            "Dear [Recipient Name],\n",
            "\n",
            "I'm reaching out today as I understand that for growing companies like [Company Name], achieving and maintaining SOC2 compliance can be a significant undertaking. It often demands substantial internal resources, time, and can be a complex process to navigate, potentially diverting valuable focus from core product innovation.\n",
            "\n",
            "At ComplAI, we've developed an AI-powered SaaS tool designed specifically to address these challenges. Our platform streamlines every aspect of SOC2 compliance, from continuous monitoring and evidence collection to proactive gap identification and comprehensive audit preparation.\n",
            "\n",
            "With ComplAI, organizations can:\n",
            "\n",
            "*   **Automate** many manual compliance tasks, saving significant time.\n",
            "*   **Proactively identify** and remediate potential compliance gaps before they become issues.\n",
            "*   **Generate audit-ready documentation** with confidence and accuracy.\n",
            "*   **Reduce the overall cost and stress** associated with SOC2 audits.\n",
            "\n",
            "Our goal is to transform SOC2 from a daunting obligation into a strategic advantage, ensuring your readiness for crucial business opportunities without overwhelming your team.\n",
            "\n",
            "Would you be open to a brief 15-minute call next week to explore how ComplAI could specifically benefit [Company Name] in accelerating your path to SOC2 certification? Please let me know if there's a day or time that works best for you.\n",
            "\n",
            "Thank you for your time and consideration.\n",
            "\n",
            "Best regards,\n",
            "\n",
            "[Your Name]\n",
            "[Your Title]\n",
            "ComplAI\n",
            "www.complai.com"
          ]
        }
      ]
    },
    {
      "cell_type": "code",
      "source": [
        "message=\"write a cold sales email\"\n",
        "\n",
        "with trace(\"Parallel Cold Emails\"):\n",
        "  results=await asyncio.gather(\n",
        "      Runner.run(sales_agent1, message),\n",
        "      Runner.run(sales_agent2, message),\n",
        "      Runner.run(sales_agent3, message)\n",
        "  )\n",
        "\n",
        "  outputs=[result.final_output for result in results]\n",
        "\n",
        "  for output in outputs:\n",
        "    print(output, \"\\n\\n\")"
      ],
      "metadata": {
        "colab": {
          "base_uri": "https://localhost:8080/"
        },
        "collapsed": true,
        "id": "ZIqNjJlQdHhq",
        "outputId": "6284b524-b967-457f-faa8-8fa2e2807863"
      },
      "execution_count": 80,
      "outputs": [
        {
          "output_type": "stream",
          "name": "stderr",
          "text": [
            "WARNING:openai.agents:OPENAI_API_KEY is not set, skipping trace export\n",
            "WARNING:openai.agents:OPENAI_API_KEY is not set, skipping trace export\n",
            "WARNING:openai.agents:OPENAI_API_KEY is not set, skipping trace export\n"
          ]
        },
        {
          "output_type": "stream",
          "name": "stdout",
          "text": [
            "Subject: Streamlining SOC2 Compliance & Audit Readiness for [Company Name]\n",
            "\n",
            "Dear [Prospect Name],\n",
            "\n",
            "Given [Company Name]'s focus on [mention something specific about their company - e.g., \"rapid growth in the [industry] sector\" or \"innovative solutions in [area]\"], I imagine maintaining robust security and compliance standards, particularly SOC2, is a critical consideration.\n",
            "\n",
            "Many high-growth companies find that preparing for and maintaining SOC2 compliance can be a significant drain on internal resources, involving extensive manual evidence collection, complex policy management, and the constant pressure of audit readiness.\n",
            "\n",
            "At ComplAI, we've developed an AI-powered SaaS platform specifically designed to simplify and accelerate your SOC2 compliance journey. Our tool automates critical compliance workflows, streamlines evidence gathering, and provides intelligent insights to ensure continuous audit readiness, freeing your engineering and security teams to focus on core innovation.\n",
            "\n",
            "We help organizations like yours:\n",
            "*   **Achieve compliance faster:** Reduce preparation time by up to 50%.\n",
            "*   **Ensure continuous readiness:** Proactively identify and address compliance gaps.\n",
            "*   **Navigate audits with confidence:** Provide auditors with a single, comprehensive source of truth.\n",
            "\n",
            "Would you be open to a brief 15-minute call next week to explore how ComplAI could directly benefit [Company Name] by making your SOC2 process more efficient and less resource-intensive? Please let me know what day and time might work best for you.\n",
            "\n",
            "Thank you for your time and consideration.\n",
            "\n",
            "Sincerely,\n",
            "\n",
            "[Your Name]\n",
            "Sales Agent, ComplAI\n",
            "[Your Title]\n",
            "[Your Phone Number (Optional)]\n",
            "[Your Website] \n",
            "\n",
            "\n",
            "Subject: Permission to make your SOC2 audit… not suck?\n",
            "\n",
            "Hey [Recipient Name],\n",
            "\n",
            "Alright, let's be real. Your inbox is probably overflowing, and another cold email is the last thing you asked for. *Sigh*.\n",
            "\n",
            "But hear me out. If the mere mention of \"SOC2 audit\" sends shivers down your spine, conjures images of endless documentation, policy reviews, and weeping silently into your keyboard at 2 AM trying to find *that one* log... then this might just be the most useful email you open today.\n",
            "\n",
            "Because, let's face it, SOC2 compliance is crucial, but the prep? It's like trying to herd cats, blindfolded, while juggling chainsaws. For months. Exhausting, right?\n",
            "\n",
            "Enter **ComplAI**, your new secret weapon. We're like the Marie Kondo of compliance – we help you get rid of the clutter and spark joy (or at least, significantly less terror) in your audit prep.\n",
            "\n",
            "Powered by AI, ComplAI doesn't just manage your compliance; it *anticipates* auditor needs, *automates* evidence collection, and *simplifies* policy management. We basically turn that mountainous task into... well, a much smaller, more manageable hill. Maybe even a molehill if you're feeling ambitious and have a great coffee machine.\n",
            "\n",
            "We take the \"Oh. My. God.\" out of audit season, leaving you free to, you know, run your actual business.\n",
            "\n",
            "Would you be open to a super quick (like, 'microwave popcorn' quick, say 10-15 minutes?) demo to see ComplAI work its magic and reclaim your evenings?\n",
            "\n",
            "No pressure, just possibilities for a far less painful audit season.\n",
            "\n",
            "Cheers to less audit stress,\n",
            "\n",
            "[Your Name]\n",
            "Humorous & Engaging Sales Agent | ComplAI\n",
            "Your AI-Powered Path to Painless SOC2 Compliance\n",
            "[ComplAI Website Link] | [Your LinkedIn Profile Link (Optional)] \n",
            "\n",
            "\n",
            "Subject: AI for Faster, Easier SOC2 Compliance\n",
            "\n",
            "Hi [Prospect Name],\n",
            "\n",
            "I'm [Your Name] from ComplAI. We help companies like yours streamline their SOC2 journey with an an AI-powered platform.\n",
            "\n",
            "SOC2 audits are complex and time-consuming. Our tool automates evidence collection, pinpoints compliance gaps, and prepares you for a smooth audit – significantly cutting effort and cost.\n",
            "\n",
            "Would you be open to a quick 15-minute chat to explore how ComplAI can benefit your team?\n",
            "\n",
            "Best,\n",
            "\n",
            "[Your Name]\n",
            "Sales Agent, ComplAI\n",
            "ComplAI.com \n",
            "\n",
            "\n"
          ]
        }
      ]
    },
    {
      "cell_type": "code",
      "source": [
        "sales_picker=Agent(\n",
        "    name=\"sales_picker\",\n",
        "    instructions=\"you pick the best cold sales email from the given options. \\\n",
        "    Imagine you are a customer and pick the one you are most likely to respond to. \\\n",
        "    Do not give any explanation; reply with the selected email only\",\n",
        "    model=\"litellm/gemini/gemini-2.5-flash\"\n",
        ")"
      ],
      "metadata": {
        "id": "hgQqVn9YfNEI"
      },
      "execution_count": 81,
      "outputs": []
    },
    {
      "cell_type": "code",
      "source": [
        "message=message\n",
        "\n",
        "with trace(\"Selection from sales people\"):\n",
        "  results=await asyncio.gather(\n",
        "      Runner.run(sales_agent1, message),\n",
        "      Runner.run(sales_agent2, message),\n",
        "      Runner.run(sales_agent3, message)\n",
        "  )\n",
        "\n",
        "  outputs=[result.final_output for result in results]\n",
        "\n",
        "  emails=\"Cold sales emails:\\n\\n\".join(outputs)\n",
        "\n",
        "  best=await Runner.run(sales_picker, emails)\n",
        "\n",
        "  print(f\"Best cold sales email:\\n{best.final_output}\")"
      ],
      "metadata": {
        "colab": {
          "base_uri": "https://localhost:8080/"
        },
        "collapsed": true,
        "id": "NIPEaBmjgQyb",
        "outputId": "6479dd4c-9903-441f-aa10-4870485de492"
      },
      "execution_count": 82,
      "outputs": [
        {
          "output_type": "stream",
          "name": "stderr",
          "text": [
            "WARNING:openai.agents:OPENAI_API_KEY is not set, skipping trace export\n",
            "WARNING:openai.agents:OPENAI_API_KEY is not set, skipping trace export\n",
            "WARNING:openai.agents:OPENAI_API_KEY is not set, skipping trace export\n"
          ]
        },
        {
          "output_type": "stream",
          "name": "stdout",
          "text": [
            "Best cold sales email:\n",
            "Subject: Your SOC2 Audit's Worst Nightmare (and your team's new best friend) 🤝\n",
            "\n",
            "Hey [Prospect Name],\n",
            "\n",
            "I'm going to go out on a limb here and guess that 'SOC2 Audit Prep' isn't exactly at the top of your team's 'Most Thrilling Activities' list, right after axe throwing and competitive napping. Am I right?\n",
            "\n",
            "Let's be honest, it's often seen as the administrative equivalent of trying to herd a thousand paperwork-loving squirrels through a bureaucratic obstacle course. It sucks up engineering time, causes \"fun\" (read: stress-induced) sleepless nights, and generally feels like a necessary evil to land those big enterprise deals.\n",
            "\n",
            "But what if I told you there's a way to tame that beast, *without* sacrificing your engineers' sanity or their precious product development time?\n",
            "\n",
            "That's where **ComplAI** steps in. We're like the superhero sidekick for your SOC2 journey – if the superhero had an advanced AI brain and a penchant for making compliance surprisingly painless.\n",
            "\n",
            "Our AI-powered SaaS tool takes the mind-numbing manual work out of SOC2 compliance and audit prep. We monitor, gather evidence, flag issues, and basically get you audit-ready faster than you can say \"internal control objectives.\"\n",
            "\n",
            "Think less spreadsheet purgatory, more... well, *not* spreadsheet purgatory. And more time building amazing things.\n",
            "\n",
            "Would you be open to a super quick 15-minute chat next week to explore how ComplAI can transform your SOC2 woes into... well, *not* woes? Maybe even a high-five.\n",
            "\n",
            "Looking forward to hearing from you (and maybe saving you from an audit-induced meltdown).\n",
            "\n",
            "Cheers,\n",
            "\n",
            "[Your Name]\n",
            "Compliance Comedian & Sales Sorcerer at ComplAI\n",
            "ComplAI - Your AI-Powered Path to SOC2 Sanity\n",
            "[Your Website Link]\n",
            "[Your LinkedIn Profile Link (Optional)]\n"
          ]
        }
      ]
    },
    {
      "cell_type": "markdown",
      "source": [
        "# Step2-&-3: ***tools & interactions***"
      ],
      "metadata": {
        "id": "ekYgmw8fnzvO"
      }
    },
    {
      "cell_type": "markdown",
      "source": [
        "### Converting func into tool by the help of agent built-in func ***function_tool***"
      ],
      "metadata": {
        "id": "FjQ0EX7dqUAk"
      }
    },
    {
      "cell_type": "code",
      "source": [
        "@function_tool\n",
        "def send_mail(body: str):\n",
        "  \"\"\"Send out an email with the given body to all sales prospects\"\"\"\n",
        "  sg=sendgrid.SendGridAPIClient(api_key=userdata.get(\"SENDGRID_API_KEY\"))\n",
        "\n",
        "  from_email=Email(\"muasif025@gmail.com\")\n",
        "  to_email=To(\"as29624041@gmail.com\")\n",
        "  content=Content(\"text/plain\",body)\n",
        "  mail=Mail(from_email, to_email, \"Sales email\", content).get()\n",
        "\n",
        "  response=sg.client.mail.send.post(request_body=mail)\n",
        "\n",
        "  return {\"status\":\"success\"}"
      ],
      "metadata": {
        "id": "f5eSBvkwoBYM"
      },
      "execution_count": 83,
      "outputs": []
    },
    {
      "cell_type": "code",
      "source": [
        "send_mail"
      ],
      "metadata": {
        "colab": {
          "base_uri": "https://localhost:8080/"
        },
        "id": "9W3swk46qBvh",
        "outputId": "3d5d89b1-c7da-4352-fddc-cabbb6c1c35a"
      },
      "execution_count": 102,
      "outputs": [
        {
          "output_type": "execute_result",
          "data": {
            "text/plain": [
              "FunctionTool(name='send_mail', description='Send out an email with the given body to all sales prospects', params_json_schema={'properties': {'body': {'title': 'Body', 'type': 'string'}}, 'required': ['body'], 'title': 'send_mail_args', 'type': 'object', 'additionalProperties': False}, on_invoke_tool=<function function_tool.<locals>._create_function_tool.<locals>._on_invoke_tool at 0x79072383a340>, strict_json_schema=True, is_enabled=True)"
            ]
          },
          "metadata": {},
          "execution_count": 102
        }
      ]
    },
    {
      "cell_type": "markdown",
      "source": [
        "# We can also turn ***Agents*** into ***tools***"
      ],
      "metadata": {
        "id": "Wwf1M7xzxnE9"
      }
    },
    {
      "cell_type": "code",
      "source": [
        "tool1=sales_agent1.as_tool(tool_name=\"sales_agent1\", tool_description=\"write a cold sales email\")\n",
        "tool1"
      ],
      "metadata": {
        "colab": {
          "base_uri": "https://localhost:8080/"
        },
        "id": "Po6gq18Wxwx8",
        "outputId": "fee37976-0b02-48de-ff4f-ebe195513b53"
      },
      "execution_count": 85,
      "outputs": [
        {
          "output_type": "execute_result",
          "data": {
            "text/plain": [
              "FunctionTool(name='sales_agent1', description='write a cold sales email', params_json_schema={'properties': {'input': {'title': 'Input', 'type': 'string'}}, 'required': ['input'], 'title': 'sales_agent1_args', 'type': 'object', 'additionalProperties': False}, on_invoke_tool=<function function_tool.<locals>._create_function_tool.<locals>._on_invoke_tool at 0x7907238c19e0>, strict_json_schema=True, is_enabled=True)"
            ]
          },
          "metadata": {},
          "execution_count": 85
        }
      ]
    },
    {
      "cell_type": "code",
      "source": [
        "# Now we gather all the tools together\n",
        "description=\"write a cold sales email\"\n",
        "\n",
        "tool1=sales_agent1.as_tool(tool_name=\"sales_agent1\", tool_description=description)\n",
        "tool2=sales_agent2.as_tool(tool_name=\"sales_agent2\", tool_description=description)\n",
        "tool3=sales_agent3.as_tool(tool_name=\"sales_agent3\", tool_description=description)\n",
        "\n",
        "tools=[tool1,tool2,tool3, send_mail]\n",
        "\n",
        "tools\n"
      ],
      "metadata": {
        "colab": {
          "base_uri": "https://localhost:8080/"
        },
        "id": "I_TBaHDAyMhv",
        "outputId": "a22a28e7-60bf-4d28-820b-8f44a16bf425"
      },
      "execution_count": 86,
      "outputs": [
        {
          "output_type": "execute_result",
          "data": {
            "text/plain": [
              "[FunctionTool(name='sales_agent1', description='write a cold sales email', params_json_schema={'properties': {'input': {'title': 'Input', 'type': 'string'}}, 'required': ['input'], 'title': 'sales_agent1_args', 'type': 'object', 'additionalProperties': False}, on_invoke_tool=<function function_tool.<locals>._create_function_tool.<locals>._on_invoke_tool at 0x7907238c36a0>, strict_json_schema=True, is_enabled=True),\n",
              " FunctionTool(name='sales_agent2', description='write a cold sales email', params_json_schema={'properties': {'input': {'title': 'Input', 'type': 'string'}}, 'required': ['input'], 'title': 'sales_agent2_args', 'type': 'object', 'additionalProperties': False}, on_invoke_tool=<function function_tool.<locals>._create_function_tool.<locals>._on_invoke_tool at 0x790745a13c40>, strict_json_schema=True, is_enabled=True),\n",
              " FunctionTool(name='sales_agent3', description='write a cold sales email', params_json_schema={'properties': {'input': {'title': 'Input', 'type': 'string'}}, 'required': ['input'], 'title': 'sales_agent3_args', 'type': 'object', 'additionalProperties': False}, on_invoke_tool=<function function_tool.<locals>._create_function_tool.<locals>._on_invoke_tool at 0x7907238c0cc0>, strict_json_schema=True, is_enabled=True),\n",
              " FunctionTool(name='send_mail', description='Send out an email with the given body to all sales prospects', params_json_schema={'properties': {'body': {'title': 'Body', 'type': 'string'}}, 'required': ['body'], 'title': 'send_mail_args', 'type': 'object', 'additionalProperties': False}, on_invoke_tool=<function function_tool.<locals>._create_function_tool.<locals>._on_invoke_tool at 0x79072383a340>, strict_json_schema=True, is_enabled=True)]"
            ]
          },
          "metadata": {},
          "execution_count": 86
        }
      ]
    },
    {
      "cell_type": "markdown",
      "source": [
        "# Sales Manager - Our planning agent"
      ],
      "metadata": {
        "id": "KbOaxRqXzhna"
      }
    },
    {
      "cell_type": "code",
      "source": [
        "manager_inst=\"You are a Sales manager working for ComplAI. \\\n",
        "You use the tools given to you to generate cold sales email. \\\n",
        "You never generate sales emails yourself; you always use the tools. \\\n",
        "You try all 3 sales_agent tools once before choosing the best one. \\\n",
        "You pick the single best email and use the send_mail toolto send the best email (and only the best email) to the user\"\n",
        "\n",
        "sales_manager_agent = Agent(\n",
        "    name=\"Sales_Manager\",\n",
        "    instructions=manager_inst,\n",
        "    tools=tools,\n",
        "    model=\"litellm/gemini/gemini-2.5-flash\"\n",
        ")"
      ],
      "metadata": {
        "id": "1LJtyLk9zpN5"
      },
      "execution_count": 87,
      "outputs": []
    },
    {
      "cell_type": "code",
      "source": [
        "message=\"send a cold sales email addressed to 'Dear CEO'\"\n",
        "result = await Runner.run(sales_manager_agent,message)"
      ],
      "metadata": {
        "colab": {
          "base_uri": "https://localhost:8080/"
        },
        "id": "k3QVcaJC1bQK",
        "outputId": "a82a0a48-5dd9-4bae-e173-4198c4f1fb4b"
      },
      "execution_count": 91,
      "outputs": [
        {
          "output_type": "stream",
          "name": "stderr",
          "text": [
            "WARNING:openai.agents:OPENAI_API_KEY is not set, skipping trace export\n",
            "WARNING:openai.agents:OPENAI_API_KEY is not set, skipping trace export\n",
            "WARNING:openai.agents:OPENAI_API_KEY is not set, skipping trace export\n",
            "WARNING:openai.agents:OPENAI_API_KEY is not set, skipping trace export\n"
          ]
        }
      ]
    },
    {
      "cell_type": "code",
      "source": [
        "print(result.final_output)"
      ],
      "metadata": {
        "colab": {
          "base_uri": "https://localhost:8080/"
        },
        "id": "CyumJ4L42s9h",
        "outputId": "6164513e-31f0-4b4c-f56b-0929a2b01192"
      },
      "execution_count": 92,
      "outputs": [
        {
          "output_type": "stream",
          "name": "stdout",
          "text": [
            "I have sent the email.\n"
          ]
        }
      ]
    },
    {
      "cell_type": "markdown",
      "source": [
        "# ***Handoffs***\n",
        "### handoffs represents a way an agent can delegate to an agent, passing control to it"
      ],
      "metadata": {
        "id": "0I_kKPZ9V8os"
      }
    },
    {
      "cell_type": "code",
      "source": [
        "subject_inst=\"You can write a subject for a cold sales email. \\\n",
        "You are given a message/email and you need to write a subject for an email that is likely to get a response.\"\n",
        "\n",
        "html_inst=\"You can convert a text email body to an HTML email body. \\\n",
        "You are given a text email body which might have some markdown and \\\n",
        "you need to convert it to an HTML email body with simple,clear,compelling layout and design.\"\n",
        "\n",
        "subject_agent=Agent(\n",
        "    name=\"Email Subject Writer\",\n",
        "    instructions=subject_inst,\n",
        "    model=\"litellm/gemini/gemini-2.5-flash\"\n",
        "  )\n",
        "subject_tool=subject_agent.as_tool(tool_name=\"subject_writer\",tool_description=\"Write a subject for a cold sales email\")\n",
        "\n",
        "html_agent=Agent(\n",
        "    name=\"HTML email body converter\",\n",
        "    instructions=html_inst,\n",
        "    model=\"litellm/gemini/gemini-2.5-flash\"\n",
        "    )\n",
        "html_tool=html_agent.as_tool(tool_name=\"html_converter\",tool_description=\"convert a text email body into an HTML email body\")"
      ],
      "metadata": {
        "id": "vfrBR1mmX-1X"
      },
      "execution_count": 93,
      "outputs": []
    },
    {
      "cell_type": "code",
      "source": [
        "@function_tool\n",
        "def send_html_mail(subject: str, html_body:str):\n",
        "  \"\"\"Send out an email with given subject and HTML body to all sales prospects\"\"\"\n",
        "  sg=sendgrid.SendGridAPIClient(api_key=userdata.get(\"SENDGRID_API_KEY\"))\n",
        "\n",
        "  from_email=Email(\"muasif025@gmail.com\")\n",
        "  to_email=To(\"as29624041@gmail.com\")\n",
        "  content=Content(\"text/html\",html_body)\n",
        "  mail=Mail(from_email, to_email, subject, content).get()\n",
        "\n",
        "  response=sg.client.mail.send.post(request_body=mail)\n",
        "  return {\"status\":\"success\"}"
      ],
      "metadata": {
        "id": "k2fSCxc9Ziu-"
      },
      "execution_count": 106,
      "outputs": []
    },
    {
      "cell_type": "code",
      "source": [
        "send_html_mail"
      ],
      "metadata": {
        "colab": {
          "base_uri": "https://localhost:8080/"
        },
        "id": "YAIRQXM6aLgs",
        "outputId": "523b5ba5-c863-4a36-d83d-ad4c2d3bd750"
      },
      "execution_count": 95,
      "outputs": [
        {
          "output_type": "execute_result",
          "data": {
            "text/plain": [
              "FunctionTool(name='send_html_mail', description='Send out an email with given subject and HTML body to all sales prospects', params_json_schema={'properties': {'subject': {'title': 'Subject', 'type': 'string'}, 'html_body': {'title': 'Html Body', 'type': 'string'}}, 'required': ['subject', 'html_body'], 'title': 'send_html_mail_args', 'type': 'object', 'additionalProperties': False}, on_invoke_tool=<function function_tool.<locals>._create_function_tool.<locals>._on_invoke_tool at 0x79072383bb00>, strict_json_schema=True, is_enabled=True)"
            ]
          },
          "metadata": {},
          "execution_count": 95
        }
      ]
    },
    {
      "cell_type": "code",
      "source": [
        "tools=[subject_tool, html_tool, send_html_mail]"
      ],
      "metadata": {
        "id": "idy91pH9aYRO"
      },
      "execution_count": 107,
      "outputs": []
    },
    {
      "cell_type": "code",
      "source": [
        "email_manager_inst=\"You are an email formatter and sender, you receive the body of an email to be sent. \\\n",
        "you first use the subject_tool tool to write a subject for the email, then use the html_tool tool to convert the email body to HTML. \\\n",
        "Finally,you use the send_html_mail tool to send the email with the subject and HTML body\"\n",
        "\n",
        "emailer_agent=Agent(\n",
        "    name=\"Email Manager\",\n",
        "    instructions=email_manager_inst,\n",
        "    tools=tools,\n",
        "    model=\"litellm/gemini/gemini-2.5-flash\",\n",
        "    handoff_description=\"Convert given text email body to an HTML email body and send it with subject\"\n",
        ")"
      ],
      "metadata": {
        "id": "UXjc7EtlahrA"
      },
      "execution_count": 108,
      "outputs": []
    },
    {
      "cell_type": "code",
      "source": [
        "email_gen_tools=[tool1, tool2, tool3]\n",
        "handoffs=[emailer_agent]"
      ],
      "metadata": {
        "id": "BS4b_rCXctuu"
      },
      "execution_count": 109,
      "outputs": []
    },
    {
      "cell_type": "code",
      "source": [
        "sales_manager_inst=\"You are a Sales manager working for ComplAI. \\\n",
        "You use the tools given to you to generate cold sales email. \\\n",
        "You never generate sales emails yourself; you always use the tools. \\\n",
        "You try all 3 sales_agent tools at least once before choosing the best one. \\\n",
        "You can use tool multiple times if you are not satisfied with the results from the first try. \\\n",
        "You should select the single best email using your own judgement of which email will be most effective and likely to get response. \\\n",
        "After picking the email, you handoff to the Email Manager Agent to format and send the email.\"\n",
        "\n",
        "sales_manager_agent=Agent(\n",
        "    name=\"Sales Manager\",\n",
        "    instructions=sales_manager_inst,\n",
        "    tools=email_gen_tools,\n",
        "    handoffs=handoffs,\n",
        "    model=\"litellm/gemini/gemini-2.5-flash\"\n",
        ")"
      ],
      "metadata": {
        "id": "AcI6NYGpjF73"
      },
      "execution_count": 111,
      "outputs": []
    },
    {
      "cell_type": "code",
      "source": [
        "message=\"Send out a cold sales email addressed to Dear CEO from Alice\"\n",
        "\n",
        "result = await Runner.run(sales_manager_agent, message)"
      ],
      "metadata": {
        "colab": {
          "base_uri": "https://localhost:8080/"
        },
        "id": "pMULmbgBlN7n",
        "outputId": "19a77c76-50c2-4e4c-97e8-2a3c10540728"
      },
      "execution_count": 112,
      "outputs": [
        {
          "output_type": "stream",
          "name": "stderr",
          "text": [
            "WARNING:openai.agents:OPENAI_API_KEY is not set, skipping trace export\n",
            "WARNING:openai.agents:OPENAI_API_KEY is not set, skipping trace export\n",
            "WARNING:openai.agents:OPENAI_API_KEY is not set, skipping trace export\n",
            "WARNING:openai.agents:OPENAI_API_KEY is not set, skipping trace export\n",
            "WARNING:openai.agents:OPENAI_API_KEY is not set, skipping trace export\n",
            "WARNING:openai.agents:OPENAI_API_KEY is not set, skipping trace export\n",
            "WARNING:openai.agents:OPENAI_API_KEY is not set, skipping trace export\n",
            "WARNING:openai.agents:OPENAI_API_KEY is not set, skipping trace export\n",
            "WARNING:openai.agents:OPENAI_API_KEY is not set, skipping trace export\n",
            "WARNING:openai.agents:OPENAI_API_KEY is not set, skipping trace export\n",
            "WARNING:openai.agents:OPENAI_API_KEY is not set, skipping trace export\n",
            "WARNING:openai.agents:OPENAI_API_KEY is not set, skipping trace export\n",
            "WARNING:openai.agents:OPENAI_API_KEY is not set, skipping trace export\n",
            "WARNING:openai.agents:OPENAI_API_KEY is not set, skipping trace export\n"
          ]
        }
      ]
    },
    {
      "cell_type": "code",
      "source": [
        "print(result.final_output)"
      ],
      "metadata": {
        "colab": {
          "base_uri": "https://localhost:8080/"
        },
        "id": "yoe-fKbKlzI1",
        "outputId": "46e19dc2-ee29-4ecd-87b8-b9a95ad675ca"
      },
      "execution_count": 113,
      "outputs": [
        {
          "output_type": "stream",
          "name": "stdout",
          "text": [
            "The email has been sent successfully.\n"
          ]
        }
      ]
    }
  ]
}