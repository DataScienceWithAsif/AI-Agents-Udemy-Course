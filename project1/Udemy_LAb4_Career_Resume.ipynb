{
  "nbformat": 4,
  "nbformat_minor": 0,
  "metadata": {
    "colab": {
      "provenance": []
    },
    "kernelspec": {
      "name": "python3",
      "display_name": "Python 3"
    },
    "language_info": {
      "name": "python"
    }
  },
  "cells": [
    {
      "cell_type": "code",
      "execution_count": null,
      "metadata": {
        "colab": {
          "base_uri": "https://localhost:8080/"
        },
        "collapsed": true,
        "id": "W3XRmO0k6B6T",
        "outputId": "19f6be1a-8bb2-4a7d-9f30-28e9ad017252"
      },
      "outputs": [
        {
          "output_type": "stream",
          "name": "stdout",
          "text": [
            "Requirement already satisfied: openai in /usr/local/lib/python3.12/dist-packages (1.107.0)\n",
            "Collecting groq\n",
            "  Downloading groq-0.31.1-py3-none-any.whl.metadata (16 kB)\n",
            "Requirement already satisfied: gradio in /usr/local/lib/python3.12/dist-packages (5.44.1)\n",
            "Collecting PyPDF2\n",
            "  Downloading pypdf2-3.0.1-py3-none-any.whl.metadata (6.8 kB)\n",
            "Requirement already satisfied: anyio<5,>=3.5.0 in /usr/local/lib/python3.12/dist-packages (from openai) (4.10.0)\n",
            "Requirement already satisfied: distro<2,>=1.7.0 in /usr/local/lib/python3.12/dist-packages (from openai) (1.9.0)\n",
            "Requirement already satisfied: httpx<1,>=0.23.0 in /usr/local/lib/python3.12/dist-packages (from openai) (0.28.1)\n",
            "Requirement already satisfied: jiter<1,>=0.4.0 in /usr/local/lib/python3.12/dist-packages (from openai) (0.10.0)\n",
            "Requirement already satisfied: pydantic<3,>=1.9.0 in /usr/local/lib/python3.12/dist-packages (from openai) (2.11.7)\n",
            "Requirement already satisfied: sniffio in /usr/local/lib/python3.12/dist-packages (from openai) (1.3.1)\n",
            "Requirement already satisfied: tqdm>4 in /usr/local/lib/python3.12/dist-packages (from openai) (4.67.1)\n",
            "Requirement already satisfied: typing-extensions<5,>=4.11 in /usr/local/lib/python3.12/dist-packages (from openai) (4.15.0)\n",
            "Requirement already satisfied: aiofiles<25.0,>=22.0 in /usr/local/lib/python3.12/dist-packages (from gradio) (24.1.0)\n",
            "Requirement already satisfied: brotli>=1.1.0 in /usr/local/lib/python3.12/dist-packages (from gradio) (1.1.0)\n",
            "Requirement already satisfied: fastapi<1.0,>=0.115.2 in /usr/local/lib/python3.12/dist-packages (from gradio) (0.116.1)\n",
            "Requirement already satisfied: ffmpy in /usr/local/lib/python3.12/dist-packages (from gradio) (0.6.1)\n",
            "Requirement already satisfied: gradio-client==1.12.1 in /usr/local/lib/python3.12/dist-packages (from gradio) (1.12.1)\n",
            "Requirement already satisfied: groovy~=0.1 in /usr/local/lib/python3.12/dist-packages (from gradio) (0.1.2)\n",
            "Requirement already satisfied: huggingface-hub<1.0,>=0.33.5 in /usr/local/lib/python3.12/dist-packages (from gradio) (0.34.4)\n",
            "Requirement already satisfied: jinja2<4.0 in /usr/local/lib/python3.12/dist-packages (from gradio) (3.1.6)\n",
            "Requirement already satisfied: markupsafe<4.0,>=2.0 in /usr/local/lib/python3.12/dist-packages (from gradio) (3.0.2)\n",
            "Requirement already satisfied: numpy<3.0,>=1.0 in /usr/local/lib/python3.12/dist-packages (from gradio) (2.0.2)\n",
            "Requirement already satisfied: orjson~=3.0 in /usr/local/lib/python3.12/dist-packages (from gradio) (3.11.3)\n",
            "Requirement already satisfied: packaging in /usr/local/lib/python3.12/dist-packages (from gradio) (25.0)\n",
            "Requirement already satisfied: pandas<3.0,>=1.0 in /usr/local/lib/python3.12/dist-packages (from gradio) (2.2.2)\n",
            "Requirement already satisfied: pillow<12.0,>=8.0 in /usr/local/lib/python3.12/dist-packages (from gradio) (11.3.0)\n",
            "Requirement already satisfied: pydub in /usr/local/lib/python3.12/dist-packages (from gradio) (0.25.1)\n",
            "Requirement already satisfied: python-multipart>=0.0.18 in /usr/local/lib/python3.12/dist-packages (from gradio) (0.0.20)\n",
            "Requirement already satisfied: pyyaml<7.0,>=5.0 in /usr/local/lib/python3.12/dist-packages (from gradio) (6.0.2)\n",
            "Requirement already satisfied: ruff>=0.9.3 in /usr/local/lib/python3.12/dist-packages (from gradio) (0.12.12)\n",
            "Requirement already satisfied: safehttpx<0.2.0,>=0.1.6 in /usr/local/lib/python3.12/dist-packages (from gradio) (0.1.6)\n",
            "Requirement already satisfied: semantic-version~=2.0 in /usr/local/lib/python3.12/dist-packages (from gradio) (2.10.0)\n",
            "Requirement already satisfied: starlette<1.0,>=0.40.0 in /usr/local/lib/python3.12/dist-packages (from gradio) (0.47.3)\n",
            "Requirement already satisfied: tomlkit<0.14.0,>=0.12.0 in /usr/local/lib/python3.12/dist-packages (from gradio) (0.13.3)\n",
            "Requirement already satisfied: typer<1.0,>=0.12 in /usr/local/lib/python3.12/dist-packages (from gradio) (0.17.4)\n",
            "Requirement already satisfied: uvicorn>=0.14.0 in /usr/local/lib/python3.12/dist-packages (from gradio) (0.35.0)\n",
            "Requirement already satisfied: fsspec in /usr/local/lib/python3.12/dist-packages (from gradio-client==1.12.1->gradio) (2025.3.0)\n",
            "Requirement already satisfied: websockets<16.0,>=10.0 in /usr/local/lib/python3.12/dist-packages (from gradio-client==1.12.1->gradio) (15.0.1)\n",
            "Requirement already satisfied: idna>=2.8 in /usr/local/lib/python3.12/dist-packages (from anyio<5,>=3.5.0->openai) (3.10)\n",
            "Requirement already satisfied: certifi in /usr/local/lib/python3.12/dist-packages (from httpx<1,>=0.23.0->openai) (2025.8.3)\n",
            "Requirement already satisfied: httpcore==1.* in /usr/local/lib/python3.12/dist-packages (from httpx<1,>=0.23.0->openai) (1.0.9)\n",
            "Requirement already satisfied: h11>=0.16 in /usr/local/lib/python3.12/dist-packages (from httpcore==1.*->httpx<1,>=0.23.0->openai) (0.16.0)\n",
            "Requirement already satisfied: filelock in /usr/local/lib/python3.12/dist-packages (from huggingface-hub<1.0,>=0.33.5->gradio) (3.19.1)\n",
            "Requirement already satisfied: requests in /usr/local/lib/python3.12/dist-packages (from huggingface-hub<1.0,>=0.33.5->gradio) (2.32.4)\n",
            "Requirement already satisfied: hf-xet<2.0.0,>=1.1.3 in /usr/local/lib/python3.12/dist-packages (from huggingface-hub<1.0,>=0.33.5->gradio) (1.1.9)\n",
            "Requirement already satisfied: python-dateutil>=2.8.2 in /usr/local/lib/python3.12/dist-packages (from pandas<3.0,>=1.0->gradio) (2.9.0.post0)\n",
            "Requirement already satisfied: pytz>=2020.1 in /usr/local/lib/python3.12/dist-packages (from pandas<3.0,>=1.0->gradio) (2025.2)\n",
            "Requirement already satisfied: tzdata>=2022.7 in /usr/local/lib/python3.12/dist-packages (from pandas<3.0,>=1.0->gradio) (2025.2)\n",
            "Requirement already satisfied: annotated-types>=0.6.0 in /usr/local/lib/python3.12/dist-packages (from pydantic<3,>=1.9.0->openai) (0.7.0)\n",
            "Requirement already satisfied: pydantic-core==2.33.2 in /usr/local/lib/python3.12/dist-packages (from pydantic<3,>=1.9.0->openai) (2.33.2)\n",
            "Requirement already satisfied: typing-inspection>=0.4.0 in /usr/local/lib/python3.12/dist-packages (from pydantic<3,>=1.9.0->openai) (0.4.1)\n",
            "Requirement already satisfied: click>=8.0.0 in /usr/local/lib/python3.12/dist-packages (from typer<1.0,>=0.12->gradio) (8.2.1)\n",
            "Requirement already satisfied: shellingham>=1.3.0 in /usr/local/lib/python3.12/dist-packages (from typer<1.0,>=0.12->gradio) (1.5.4)\n",
            "Requirement already satisfied: rich>=10.11.0 in /usr/local/lib/python3.12/dist-packages (from typer<1.0,>=0.12->gradio) (13.9.4)\n",
            "Requirement already satisfied: six>=1.5 in /usr/local/lib/python3.12/dist-packages (from python-dateutil>=2.8.2->pandas<3.0,>=1.0->gradio) (1.17.0)\n",
            "Requirement already satisfied: markdown-it-py>=2.2.0 in /usr/local/lib/python3.12/dist-packages (from rich>=10.11.0->typer<1.0,>=0.12->gradio) (4.0.0)\n",
            "Requirement already satisfied: pygments<3.0.0,>=2.13.0 in /usr/local/lib/python3.12/dist-packages (from rich>=10.11.0->typer<1.0,>=0.12->gradio) (2.19.2)\n",
            "Requirement already satisfied: charset_normalizer<4,>=2 in /usr/local/lib/python3.12/dist-packages (from requests->huggingface-hub<1.0,>=0.33.5->gradio) (3.4.3)\n",
            "Requirement already satisfied: urllib3<3,>=1.21.1 in /usr/local/lib/python3.12/dist-packages (from requests->huggingface-hub<1.0,>=0.33.5->gradio) (2.5.0)\n",
            "Requirement already satisfied: mdurl~=0.1 in /usr/local/lib/python3.12/dist-packages (from markdown-it-py>=2.2.0->rich>=10.11.0->typer<1.0,>=0.12->gradio) (0.1.2)\n",
            "Downloading groq-0.31.1-py3-none-any.whl (134 kB)\n",
            "\u001b[2K   \u001b[90m━━━━━━━━━━━━━━━━━━━━━━━━━━━━━━━━━━━━━━━━\u001b[0m \u001b[32m134.9/134.9 kB\u001b[0m \u001b[31m5.2 MB/s\u001b[0m eta \u001b[36m0:00:00\u001b[0m\n",
            "\u001b[?25hDownloading pypdf2-3.0.1-py3-none-any.whl (232 kB)\n",
            "\u001b[2K   \u001b[90m━━━━━━━━━━━━━━━━━━━━━━━━━━━━━━━━━━━━━━━━\u001b[0m \u001b[32m232.6/232.6 kB\u001b[0m \u001b[31m15.2 MB/s\u001b[0m eta \u001b[36m0:00:00\u001b[0m\n",
            "\u001b[?25hInstalling collected packages: PyPDF2, groq\n",
            "Successfully installed PyPDF2-3.0.1 groq-0.31.1\n"
          ]
        }
      ],
      "source": [
        "!pip install openai groq gradio PyPDF2"
      ]
    },
    {
      "cell_type": "code",
      "source": [
        "from openai import OpenAI\n",
        "from dotenv import load_dotenv\n",
        "import gradio as gr\n",
        "import json\n",
        "import os\n",
        "import requests\n",
        "from PyPDF2 import PdfReader"
      ],
      "metadata": {
        "id": "ILtM-PP97aiM"
      },
      "execution_count": null,
      "outputs": []
    },
    {
      "cell_type": "code",
      "source": [
        "from google.colab import userdata"
      ],
      "metadata": {
        "id": "lv4Q6BCV77hd"
      },
      "execution_count": null,
      "outputs": []
    },
    {
      "cell_type": "code",
      "source": [
        "groq_api_key=userdata.get(\"GROQ_API_KEY\")\n",
        "groq_base_url=\"https://api.groq.com/openai/v1\""
      ],
      "metadata": {
        "id": "jmL7EzSl8FQi"
      },
      "execution_count": null,
      "outputs": []
    },
    {
      "cell_type": "code",
      "source": [
        "groq=OpenAI(api_key=groq_api_key, base_url=groq_base_url)"
      ],
      "metadata": {
        "id": "v6a4t46A8Zn9"
      },
      "execution_count": null,
      "outputs": []
    },
    {
      "cell_type": "code",
      "source": [
        "pushover_user=userdata.get(\"PUSHOVER_USER\")\n",
        "pushover_token=userdata.get(\"PUSHOVER_TOKEN\")\n",
        "pushover_url=\"https://api.pushover.net/1/messages.json\""
      ],
      "metadata": {
        "id": "O3gmHGFv8nOj"
      },
      "execution_count": null,
      "outputs": []
    },
    {
      "cell_type": "code",
      "source": [
        "def push(message):\n",
        "  print(f\"push: {message}\")\n",
        "  payload={\"user\":pushover_user,\"token\":pushover_token, \"message\":message}\n",
        "  requests.post(pushover_url,data=payload)"
      ],
      "metadata": {
        "id": "ApVmrSNO9HS8"
      },
      "execution_count": null,
      "outputs": []
    },
    {
      "cell_type": "code",
      "source": [
        "push(\"Hi!\")"
      ],
      "metadata": {
        "colab": {
          "base_uri": "https://localhost:8080/"
        },
        "id": "UUNsAGd-9vdy",
        "outputId": "05fde00d-6700-4af5-e898-3a16f2bb2d7a"
      },
      "execution_count": null,
      "outputs": [
        {
          "output_type": "stream",
          "name": "stdout",
          "text": [
            "push: Hi!\n"
          ]
        }
      ]
    },
    {
      "cell_type": "markdown",
      "source": [
        "# tools"
      ],
      "metadata": {
        "id": "9Y27jzIz-hLG"
      }
    },
    {
      "cell_type": "code",
      "source": [
        "def record_user_details(email, name=\"Name not provied\",notes=\"Notes not provided\"):\n",
        "  push(f\"Recording {name} with email {email} and notes {notes}\")\n",
        "  return {\"recorded\":\"ok\"}"
      ],
      "metadata": {
        "id": "zSo2_V_a-g5d"
      },
      "execution_count": null,
      "outputs": []
    },
    {
      "cell_type": "code",
      "source": [
        "def record_unkown_question(question):\n",
        "  push(f\"Recording {question} asked that I couldn't answer\")\n",
        "  return {\"recorded\":\"ok\"}"
      ],
      "metadata": {
        "id": "lzJTBxuh_LbY"
      },
      "execution_count": null,
      "outputs": []
    },
    {
      "cell_type": "code",
      "source": [
        "record_user_details_json={\n",
        "    \"name\":\"record_user_details\",\n",
        "    \"description\":\"Use this tool to record that a user is interested in being in touch and provided an email address\",\n",
        "    \"parameters\":{\n",
        "        \"type\":\"object\",\n",
        "        \"properties\":{\n",
        "            \"email\":{\n",
        "                \"type\":\"string\",\n",
        "                \"description\":\"the email address of user\"\n",
        "            },\n",
        "            \"name\":{\n",
        "                \"type\":\"string\",\n",
        "                \"description\":\"name of the user\"\n",
        "            },\n",
        "            \"notes\":{\n",
        "                \"type\":\"string\",\n",
        "                \"description\":\"any additional information about the conversation that is worth recording to give context\"\n",
        "            }\n",
        "        },\n",
        "        \"required\":[\"email\"],\n",
        "        \"additionalProperties\":False\n",
        "    }\n",
        "}"
      ],
      "metadata": {
        "id": "n9qgZ-tk_u49"
      },
      "execution_count": null,
      "outputs": []
    },
    {
      "cell_type": "code",
      "source": [
        "record_unkown_question_json={\n",
        "    \"name\":\"record_unkown_question\",\n",
        "    \"description\":\"Always use this tool to record any question that couldn't be answered as you didn't know the anwser\",\n",
        "    \"parameters\":{\n",
        "        \"type\":\"object\",\n",
        "        \"properties\":{\n",
        "            \"question\":{\n",
        "                \"type\":\"string\",\n",
        "                \"description\":\"The question that couldn't be answered\"\n",
        "            }\n",
        "        },\n",
        "        \"required\":[\"question\"],\n",
        "        \"additionalProperties\":False\n",
        "    }\n",
        "}"
      ],
      "metadata": {
        "id": "-4mZ4TEUBb5J"
      },
      "execution_count": null,
      "outputs": []
    },
    {
      "cell_type": "code",
      "source": [
        "tools=[{\"type\":\"function\",\"function\":record_user_details_json},\n",
        "       {\"type\":\"function\",\"function\":record_unkown_question_json}]"
      ],
      "metadata": {
        "id": "acjRTUvBCetq"
      },
      "execution_count": null,
      "outputs": []
    },
    {
      "cell_type": "code",
      "source": [
        "from ast import arguments\n",
        "def handle_tool_calls(tool_calls):\n",
        "  result=[]\n",
        "  for tool_call in tool_calls:\n",
        "    tool_name=tool_call.function.name\n",
        "    arguments=json.loads(tool_call.function.arguments)\n",
        "    print(f\"tool called: {tool_name}\",flush=True)\n",
        "\n",
        "    if tool_name==\"record_user_details\":\n",
        "      result=record_user_details(**arguments)\n",
        "    elif tool_name==\"record_unkown_question\":\n",
        "      result=record_unkown_question(**arguments)\n",
        "\n",
        "    result.append({\"role\":\"tool\",\"content\":json.dumps(result),\"tool_call_id\":tool_call.id})\n",
        "\n",
        "  return result\n"
      ],
      "metadata": {
        "id": "hLFidbnZL1-2"
      },
      "execution_count": null,
      "outputs": []
    },
    {
      "cell_type": "code",
      "source": [
        "globals()[\"record_unkown_question\"](\"This is a really hard question\")"
      ],
      "metadata": {
        "colab": {
          "base_uri": "https://localhost:8080/"
        },
        "id": "WSCc57kaNev6",
        "outputId": "78b7f378-444d-4010-85db-1b643a339f51"
      },
      "execution_count": null,
      "outputs": [
        {
          "output_type": "stream",
          "name": "stdout",
          "text": [
            "push: Recording This is a really hard question asked that I couldn't answer\n"
          ]
        },
        {
          "output_type": "execute_result",
          "data": {
            "text/plain": [
              "{'recorded': 'ok'}"
            ]
          },
          "metadata": {},
          "execution_count": 15
        }
      ]
    },
    {
      "cell_type": "code",
      "source": [
        "# Refine handle_tool_calls function using globals instead of if-statement\n",
        "from ast import arguments\n",
        "def handle_tool_calls(tool_calls):\n",
        "  results=[]\n",
        "  for tool_call in tool_calls:\n",
        "    tool_name=tool_call.function.name\n",
        "    arguments=json.loads(tool_call.function.arguments)\n",
        "    print(f\"tool called: {tool_name}\",flush=True)\n",
        "\n",
        "    tool=globals().get(tool_name)\n",
        "    result=tool(**arguments) if tool else {}\n",
        "\n",
        "    results.append({\"role\":\"tool\",\"content\":json.dumps(result),\"tool_call_id\":tool_call.id})\n",
        "\n",
        "  return results\n"
      ],
      "metadata": {
        "id": "VwV5wBitNqco"
      },
      "execution_count": null,
      "outputs": []
    },
    {
      "cell_type": "markdown",
      "source": [
        "# Getting Context Data"
      ],
      "metadata": {
        "id": "3uWRdP_lrvxM"
      }
    },
    {
      "cell_type": "code",
      "source": [
        "loader=PdfReader(\"/content/Profile (2).pdf\")\n",
        "linkedin=''\n",
        "for page in loader.pages:\n",
        "  text=page.extract_text()\n",
        "  if text:\n",
        "    linkedin +=text\n",
        "\n",
        "with open(\"/content/summary.txt\",\"r\",encoding=\"utf-8\") as f:\n",
        "  summary=f.read()\n",
        "\n",
        "name=\"M Asif\""
      ],
      "metadata": {
        "id": "e7d17NRNr0Lk"
      },
      "execution_count": null,
      "outputs": []
    },
    {
      "cell_type": "code",
      "source": [
        "system_prompt=f\"You are acting as {name}.You are answering questions on {name}`s website, \\\n",
        "particularly questions related to {name}`s career, background, skills,education and experience. \\\n",
        "your responsibility is to represent {name} for interactions on the website as faithfully as possible. \\\n",
        "You are given summary of {name}`s background and LinkedIn profile which you can use to answer the questions. \\\n",
        "Be professional and engaging, as if talking to a potential client or future employer who came accross the website. \\\n",
        "If you do not know the answer to any question, use your record_unkown_question tool to record the question that you couldn`t answer \\\n",
        "If the user is engaging in discussion,try to steer them towards getting in touch via email: ask for thier email and record it using your record_user_details tool.\"\n",
        "\n",
        "system_prompt +=f\"\\n\\n## Summary: {summary}\\n\\n LinkedIn Profile: {linkedin}\\n\\n\"\n",
        "system_prompt +=f\"with this context, please chat with user, always staying in character as {name}\"\n"
      ],
      "metadata": {
        "id": "t-D9ehVDtNSQ"
      },
      "execution_count": null,
      "outputs": []
    },
    {
      "cell_type": "code",
      "source": [
        "groq_model=\"openai/gpt-oss-20b\""
      ],
      "metadata": {
        "id": "e1c2ocNCyU6Z"
      },
      "execution_count": null,
      "outputs": []
    },
    {
      "cell_type": "code",
      "source": [
        "def chat(message, histoy):\n",
        "  messages=[{\"role\":\"system\",\"content\":system_prompt}]\n",
        "  if histoy:\n",
        "    for turn in histoy:\n",
        "      if len(turn)==2:\n",
        "        human,assistant=turn\n",
        "        messages.append({\"role\":\"user\",\"content\":human})\n",
        "        messages.append({\"role\":\"assistant\",\"content\":assistant})\n",
        "  messages.append({\"role\":\"user\",\"content\":message})\n",
        "\n",
        "  done=False\n",
        "  while not done:\n",
        "    response=groq.chat.completions.create(model=groq_model, messages=messages, tools=tools)\n",
        "    finish_reason=response.choices[0].finish_reason\n",
        "\n",
        "    if finish_reason==\"tool_calls\":\n",
        "      message=response.choices[0].message\n",
        "      tool_calls=message.tool_calls\n",
        "      result=handle_tool_calls(tool_calls=tool_calls)\n",
        "\n",
        "      messages.append(message)\n",
        "      messages.extend(result)\n",
        "    else:\n",
        "      done=True\n",
        "\n",
        "  return response.choices[0].message.content"
      ],
      "metadata": {
        "id": "e9THqGlTwv40"
      },
      "execution_count": null,
      "outputs": []
    },
    {
      "cell_type": "code",
      "source": [
        "gr.ChatInterface(chat, type=\"messages\").launch(share=False, debug=True)"
      ],
      "metadata": {
        "colab": {
          "base_uri": "https://localhost:8080/",
          "height": 747
        },
        "id": "F7UgKohcxh09",
        "outputId": "dfb1f59f-9315-4d7a-caff-c5a3788d14b8"
      },
      "execution_count": null,
      "outputs": [
        {
          "output_type": "stream",
          "name": "stdout",
          "text": [
            "Colab notebook detected. This cell will run indefinitely so that you can see errors and logs. To turn off, set debug=False in launch().\n",
            "Note: opening Chrome Inspector may crash demo inside Colab notebooks.\n",
            "* To create a public link, set `share=True` in `launch()`.\n"
          ]
        },
        {
          "output_type": "display_data",
          "data": {
            "text/plain": [
              "<IPython.core.display.Javascript object>"
            ],
            "application/javascript": [
              "(async (port, path, width, height, cache, element) => {\n",
              "                        if (!google.colab.kernel.accessAllowed && !cache) {\n",
              "                            return;\n",
              "                        }\n",
              "                        element.appendChild(document.createTextNode(''));\n",
              "                        const url = await google.colab.kernel.proxyPort(port, {cache});\n",
              "\n",
              "                        const external_link = document.createElement('div');\n",
              "                        external_link.innerHTML = `\n",
              "                            <div style=\"font-family: monospace; margin-bottom: 0.5rem\">\n",
              "                                Running on <a href=${new URL(path, url).toString()} target=\"_blank\">\n",
              "                                    https://localhost:${port}${path}\n",
              "                                </a>\n",
              "                            </div>\n",
              "                        `;\n",
              "                        element.appendChild(external_link);\n",
              "\n",
              "                        const iframe = document.createElement('iframe');\n",
              "                        iframe.src = new URL(path, url).toString();\n",
              "                        iframe.height = height;\n",
              "                        iframe.allow = \"autoplay; camera; microphone; clipboard-read; clipboard-write;\"\n",
              "                        iframe.width = width;\n",
              "                        iframe.style.border = 0;\n",
              "                        element.appendChild(iframe);\n",
              "                    })(7860, \"/\", \"100%\", 500, false, window.element)"
            ]
          },
          "metadata": {}
        },
        {
          "output_type": "stream",
          "name": "stdout",
          "text": [
            "tool called: record_user_details\n",
            "push: Recording  with email  and notes User asked about education and experience\n",
            "tool called: record_unkown_question\n",
            "push: Recording what type musician you are? asked that I couldn't answer\n",
            "tool called: record_user_details\n",
            "push: Recording  with email as2132@gmail.com and notes User from Lahore.\n",
            "Keyboard interruption in main thread... closing server.\n"
          ]
        },
        {
          "output_type": "execute_result",
          "data": {
            "text/plain": []
          },
          "metadata": {},
          "execution_count": 36
        }
      ]
    }
  ]
}