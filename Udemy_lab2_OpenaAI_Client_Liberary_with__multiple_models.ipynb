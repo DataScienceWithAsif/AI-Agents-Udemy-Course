{
  "nbformat": 4,
  "nbformat_minor": 0,
  "metadata": {
    "colab": {
      "provenance": []
    },
    "kernelspec": {
      "name": "python3",
      "display_name": "Python 3"
    },
    "language_info": {
      "name": "python"
    }
  },
  "cells": [
    {
      "cell_type": "code",
      "execution_count": null,
      "metadata": {
        "colab": {
          "base_uri": "https://localhost:8080/"
        },
        "collapsed": true,
        "id": "cCuc3mpB9XpC",
        "outputId": "0bceff2b-7f2e-4ed6-870e-c8db3989568c"
      },
      "outputs": [
        {
          "output_type": "stream",
          "name": "stdout",
          "text": [
            "Requirement already satisfied: openai in /usr/local/lib/python3.12/dist-packages (1.106.1)\n",
            "Requirement already satisfied: anyio<5,>=3.5.0 in /usr/local/lib/python3.12/dist-packages (from openai) (4.10.0)\n",
            "Requirement already satisfied: distro<2,>=1.7.0 in /usr/local/lib/python3.12/dist-packages (from openai) (1.9.0)\n",
            "Requirement already satisfied: httpx<1,>=0.23.0 in /usr/local/lib/python3.12/dist-packages (from openai) (0.28.1)\n",
            "Requirement already satisfied: jiter<1,>=0.4.0 in /usr/local/lib/python3.12/dist-packages (from openai) (0.10.0)\n",
            "Requirement already satisfied: pydantic<3,>=1.9.0 in /usr/local/lib/python3.12/dist-packages (from openai) (2.11.7)\n",
            "Requirement already satisfied: sniffio in /usr/local/lib/python3.12/dist-packages (from openai) (1.3.1)\n",
            "Requirement already satisfied: tqdm>4 in /usr/local/lib/python3.12/dist-packages (from openai) (4.67.1)\n",
            "Requirement already satisfied: typing-extensions<5,>=4.11 in /usr/local/lib/python3.12/dist-packages (from openai) (4.15.0)\n",
            "Requirement already satisfied: idna>=2.8 in /usr/local/lib/python3.12/dist-packages (from anyio<5,>=3.5.0->openai) (3.10)\n",
            "Requirement already satisfied: certifi in /usr/local/lib/python3.12/dist-packages (from httpx<1,>=0.23.0->openai) (2025.8.3)\n",
            "Requirement already satisfied: httpcore==1.* in /usr/local/lib/python3.12/dist-packages (from httpx<1,>=0.23.0->openai) (1.0.9)\n",
            "Requirement already satisfied: h11>=0.16 in /usr/local/lib/python3.12/dist-packages (from httpcore==1.*->httpx<1,>=0.23.0->openai) (0.16.0)\n",
            "Requirement already satisfied: annotated-types>=0.6.0 in /usr/local/lib/python3.12/dist-packages (from pydantic<3,>=1.9.0->openai) (0.7.0)\n",
            "Requirement already satisfied: pydantic-core==2.33.2 in /usr/local/lib/python3.12/dist-packages (from pydantic<3,>=1.9.0->openai) (2.33.2)\n",
            "Requirement already satisfied: typing-inspection>=0.4.0 in /usr/local/lib/python3.12/dist-packages (from pydantic<3,>=1.9.0->openai) (0.4.1)\n"
          ]
        }
      ],
      "source": [
        "!pip install openai"
      ]
    },
    {
      "cell_type": "code",
      "source": [
        "gemini_base_url=\"https://generativelanguage.googleapis.com/v1beta/openai/\""
      ],
      "metadata": {
        "id": "zP31DFyt9h0x"
      },
      "execution_count": null,
      "outputs": []
    },
    {
      "cell_type": "code",
      "source": [
        "from google.colab import userdata\n",
        "gemini_api_key=userdata.get(\"GOOGLE_API_KEY\")"
      ],
      "metadata": {
        "id": "O1Jhj-ZY9lkV"
      },
      "execution_count": null,
      "outputs": []
    },
    {
      "cell_type": "code",
      "source": [
        "from openai import OpenAI"
      ],
      "metadata": {
        "id": "A5YgJs-G94-1"
      },
      "execution_count": null,
      "outputs": []
    },
    {
      "cell_type": "code",
      "source": [
        "gemini=OpenAI(\n",
        "    api_key=gemini_api_key,\n",
        "    base_url=gemini_base_url\n",
        ")"
      ],
      "metadata": {
        "id": "1b5KHaxi9-OO"
      },
      "execution_count": null,
      "outputs": []
    },
    {
      "cell_type": "code",
      "source": [
        "gemini"
      ],
      "metadata": {
        "colab": {
          "base_uri": "https://localhost:8080/"
        },
        "id": "LzKtB2xi-KOZ",
        "outputId": "ab9212ce-6506-4f4e-ff70-35842b00dbb9"
      },
      "execution_count": null,
      "outputs": [
        {
          "output_type": "execute_result",
          "data": {
            "text/plain": [
              "<openai.OpenAI at 0x7859d03dbf50>"
            ]
          },
          "metadata": {},
          "execution_count": 7
        }
      ]
    },
    {
      "cell_type": "code",
      "source": [
        "gemini_model=\"gemini-2.5-pro\"\n",
        "message=\"if i want that my android application send daily notifications to users to receive thier response to track their daily mood, how to achieve, rememberthis applicstion use ai agent as a mental health companion\"\n",
        "message=[{\"role\":\"user\",\"content\":message}]\n",
        "\n",
        "response=gemini.chat.completions.create(model=gemini_model, messages=message)"
      ],
      "metadata": {
        "id": "Be4KvC1v-Mgz"
      },
      "execution_count": null,
      "outputs": []
    },
    {
      "cell_type": "code",
      "source": [
        "reply=response.choices[0].message.content"
      ],
      "metadata": {
        "id": "1JBg6OIb_x_e"
      },
      "execution_count": null,
      "outputs": []
    },
    {
      "cell_type": "code",
      "source": [
        "from IPython.display import display,Markdown"
      ],
      "metadata": {
        "id": "LS3nRwH2_5Ps"
      },
      "execution_count": null,
      "outputs": []
    },
    {
      "cell_type": "code",
      "source": [
        "display(Markdown(reply))"
      ],
      "metadata": {
        "colab": {
          "base_uri": "https://localhost:8080/",
          "height": 1000
        },
        "id": "ljESeVAvAG-Z",
        "outputId": "1ed00ce5-3a99-4910-fe6f-e8de9f701676"
      },
      "execution_count": null,
      "outputs": [
        {
          "output_type": "display_data",
          "data": {
            "text/plain": [
              "<IPython.core.display.Markdown object>"
            ],
            "text/markdown": "Of course! This is an excellent feature for an AI-powered mental health companion app. Building a daily mood tracking notification requires a combination of background scheduling, user-interactive notifications, and a thoughtful user experience.\n\nHere is a comprehensive guide on how to achieve this, from architecture to code implementation.\n\n### Core Architecture: The Flow\n\n1.  **User Onboarding/Settings:** The first time the user opens the app (or in the settings), ask them if they'd like a daily check-in and at what time. This is crucial for user consent and a good experience.\n2.  **Scheduling the Task:** Use Android's `WorkManager` to schedule a recurring daily task that will fire at the user's preferred time. `WorkManager` is the recommended solution for deferrable, guaranteed background work, as it respects battery-saving features.\n3.  **Worker Executes:** The `WorkManager` task (a \"Worker\") runs in the background. Its job is to generate a personalized, empathetic notification from the AI agent.\n4.  **User Interaction:** The notification will have interactive buttons (e.g., \"Happy 😊\", \"Okay 😐\", \"Struggling 😔\").\n5.  **Handling the Response:** When the user taps a button, a `BroadcastReceiver` catches this action. It saves the mood response to a local database (like Room) or a remote one (like Firebase).\n6.  **Triggering the AI:** After saving the mood, the app can be opened to the chat screen, where the AI companion is pre-loaded with a context-aware message. For example, if the user tapped \"Struggling,\" the AI could start with, \"I'm sorry to hear you're having a tough day. I'm here to listen if you'd like to talk about it.\"\n\n---\n\n### Step-by-Step Implementation\n\n#### Step 1: Add Dependencies\n\nAdd the WorkManager and Room database (for local storage) dependencies to your `app/build.gradle.kts` (or `build.gradle`) file.\n\n```groovy\n// For background scheduling\nimplementation(\"androidx.work:work-runtime-ktx:2.9.0\")\n\n// For local database to store mood entries\nimplementation(\"androidx.room:room-runtime:2.6.1\")\nkapt(\"androidx.room:room-compiler:2.6.1\")\nimplementation(\"androidx.room:room-ktx:2.6.1\")\n```\n\n#### Step 2: Request Notification Permission (Android 13+)\n\nYou must request the `POST_NOTIFICATIONS` permission.\n\n```kotlin\n// In your Activity or Fragment\nprivate val requestPermissionLauncher =\n    registerForActivityResult(ActivityResultContracts.RequestPermission()) { isGranted: Boolean ->\n        if (isGranted) {\n            // Permission is granted. You can schedule the notification worker.\n            scheduleDailyMoodCheck()\n        } else {\n            // Explain to the user why the feature is unavailable.\n        }\n    }\n\nprivate fun askForNotificationPermission() {\n    if (Build.VERSION.SDK_INT >= Build.VERSION_CODES.TIRAMISU) {\n        if (ContextCompat.checkSelfPermission(this, Manifest.permission.POST_NOTIFICATIONS) != PackageManager.PERMISSION_GRANTED) {\n             requestPermissionLauncher.launch(Manifest.permission.POST_NOTIFICATIONS)\n        } else {\n             // Permission already granted\n             scheduleDailyMoodCheck()\n        }\n    } else {\n        // No runtime permission needed for older versions\n        scheduleDailyMoodCheck()\n    }\n}\n```\n\n#### Step 3: Create the Background Worker (`WorkManager`)\n\nThis class will be responsible for creating and showing the notification.\n\n```kotlin\nclass MoodNotificationWorker(appContext: Context, workerParams: WorkerParameters) :\n    CoroutineWorker(appContext, workerParams) {\n\n    override suspend fun doWork(): Result {\n        // Generate a personalized message from your AI's \"personality\"\n        val notificationText = getPersonalizedMessage()\n        sendMoodNotification(notificationText)\n        return Result.success()\n    }\n\n    private fun getPersonalizedMessage(): String {\n        val messages = listOf(\n            \"Just checking in. How are you feeling today?\",\n            \"Thinking of you. How's your day going?\",\n            \"A new day is here. How are you feeling right now?\",\n            \"Hope you're doing well. Let me know how your mood is.\"\n        )\n        return messages.random()\n    }\n\n    private fun sendMoodNotification(text: String) {\n        val notificationManager = applicationContext.getSystemService(Context.NOTIFICATION_SERVICE) as NotificationManager\n        val channelId = \"mood_check_channel\"\n\n        // Create a notification channel for Android 8.0 (Oreo) and higher\n        if (Build.VERSION.SDK_INT >= Build.VERSION_CODES.O) {\n            val channel = NotificationChannel(channelId, \"Daily Mood Checks\", NotificationManager.IMPORTANCE_DEFAULT).apply {\n                description = \"Daily notifications to track your mood\"\n            }\n            notificationManager.createNotificationChannel(channel)\n        }\n\n        // --- Create Notification Actions (Buttons) ---\n        val happyIntent = createMoodResponseIntent(applicationContext, \"happy\")\n        val okayIntent = createMoodResponseIntent(applicationContext, \"okay\")\n        val sadIntent = createMoodResponseIntent(applicationContext, \"sad\")\n\n        val happyAction = NotificationCompat.Action.Builder(0, \"Happy 😊\", happyIntent).build()\n        val okayAction = NotificationCompat.Action.Builder(0, \"Okay 😐\", okayIntent).build()\n        val sadAction = NotificationCompat.Action.Builder(0, \"Struggling 😔\", sadIntent).build()\n\n        // --- Build the Notification ---\n        val notification = NotificationCompat.Builder(applicationContext, channelId)\n            .setSmallIcon(R.drawable.ic_notification_icon) // Replace with your icon\n            .setContentTitle(\"Your Daily Check-in\")\n            .setContentText(text)\n            .setPriority(NotificationCompat.PRIORITY_DEFAULT)\n            .setAutoCancel(true) // Dismisses the notification when an action is clicked\n            .addAction(happyAction)\n            .addAction(okayAction)\n            .addAction(sadAction)\n            .build()\n\n        // Use a unique ID for the notification\n        notificationManager.notify(1, notification)\n    }\n\n    private fun createMoodResponseIntent(context: Context, mood: String): PendingIntent {\n        val intent = Intent(context, MoodResponseReceiver::class.java).apply {\n            action = \"com.yourapp.ACTION_MOOD_RESPONSE\"\n            putExtra(\"EXTRA_MOOD\", mood)\n        }\n        // Use a unique request code for each pending intent\n        val requestCode = mood.hashCode()\n        return PendingIntent.getBroadcast(context, requestCode, intent, PendingIntent.FLAG_UPDATE_CURRENT or PendingIntent.FLAG_IMMUTABLE)\n    }\n}\n```\n\n#### Step 4: Schedule the Worker\n\nCreate a function to schedule the `PeriodicWorkRequest`. This should be called after the user gives permission and sets their preferred time.\n\n```kotlin\nfun scheduleDailyMoodCheck(context: Context, hourOfDay: Int, minute: Int) {\n    val workManager = WorkManager.getInstance(context)\n\n    // Calculate the initial delay to get to the first scheduled time\n    val now = Calendar.getInstance()\n    val scheduledTime = Calendar.getInstance().apply {\n        set(Calendar.HOUR_OF_DAY, hourOfDay)\n        set(Calendar.MINUTE, minute)\n        set(Calendar.SECOND, 0)\n    }\n    // If the scheduled time is in the past, schedule it for the next day\n    if (scheduledTime.before(now)) {\n        scheduledTime.add(Calendar.DAY_OF_MONTH, 1)\n    }\n    val initialDelay = scheduledTime.timeInMillis - now.timeInMillis\n\n    // Create a periodic work request that runs once a day\n    val dailyWorkRequest = PeriodicWorkRequestBuilder<MoodNotificationWorker>(1, TimeUnit.DAYS)\n        .setInitialDelay(initialDelay, TimeUnit.MILLISECONDS)\n        .build()\n\n    // Use a unique name to prevent duplicate workers and allow for cancellation/updates\n    workManager.enqueueUniquePeriodicWork(\n        \"DailyMoodCheck\",\n        ExistingPeriodicWorkPolicy.REPLACE, // Replace any existing work with this new one\n        dailyWorkRequest\n    )\n}\n```\n\n#### Step 5: Handle the Response with a `BroadcastReceiver`\n\nThis receiver will wake up when the user taps a notification button.\n\n1.  **Create the Receiver Class:**\n\n    ```kotlin\n    class MoodResponseReceiver : BroadcastReceiver() {\n        override fun onReceive(context: Context, intent: Intent?) {\n            if (intent?.action == \"com.yourapp.ACTION_MOOD_RESPONSE\") {\n                val mood = intent.getStringExtra(\"EXTRA_MOOD\") ?: return\n\n                // 1. Save the mood data (e.g., to a Room database)\n                // This should be done in a background thread\n                // For simplicity, showing a direct call here. Use a repository/coroutine.\n                // saveMoodEntry(context, mood)\n\n                // 2. Dismiss the notification\n                val notificationManager = context.getSystemService(Context.NOTIFICATION_SERVICE) as NotificationManager\n                notificationManager.cancel(1) // Use the same ID as when you showed it\n\n                // 3. Open the app to the chat screen with the AI\n                val launchAppIntent = Intent(context, MainActivity::class.java).apply {\n                    flags = Intent.FLAG_ACTIVITY_NEW_TASK or Intent.FLAG_ACTIVITY_CLEAR_TOP\n                    putExtra(\"OPEN_FROM_NOTIFICATION\", true)\n                    putExtra(\"USER_MOOD\", mood)\n                }\n                context.startActivity(launchAppIntent)\n            }\n        }\n    }\n    ```\n\n2.  **Register the Receiver in `AndroidManifest.xml`:**\n\n    ```xml\n    <application ...>\n        ...\n        <receiver\n            android:name=\".MoodResponseReceiver\"\n            android:enabled=\"true\"\n            android:exported=\"false\">\n            <intent-filter>\n                <action android:name=\"com.yourapp.ACTION_MOOD_RESPONSE\" />\n            </intent-filter>\n        </receiver>\n        ...\n    </application>\n    ```\n\n#### Step 6: Trigger the AI Companion in Your Activity\n\nIn your `MainActivity` (or whichever activity hosts the AI chat), check for the intent extras when it opens.\n\n```kotlin\n// In MainActivity.kt\noverride fun onCreate(savedInstanceState: Bundle?) {\n    super.onCreate(savedInstanceState)\n    setContentView(R.layout.activity_main)\n\n    handleIntent(intent)\n}\n\noverride fun onNewIntent(intent: Intent?) {\n    super.onNewIntent(intent)\n    handleIntent(intent)\n}\n\nprivate fun handleIntent(intent: Intent?) {\n    if (intent?.getBooleanExtra(\"OPEN_FROM_NOTIFICATION\", false) == true) {\n        val mood = intent.getStringExtra(\"USER_MOOD\")\n        triggerAiConversation(mood)\n    }\n}\n\nprivate fun triggerAiConversation(mood: String?) {\n    val aiPrompt = when (mood) {\n        \"happy\" -> \"It's wonderful to see you're feeling happy today! What's making you smile?\"\n        \"okay\" -> \"Thanks for checking in. Sometimes 'okay' is a good place to be. Is there anything on your mind?\"\n        \"sad\", \"struggling\" -> \"I see you're having a tough time. I'm here for you. Would you like to talk about what's going on?\"\n        else -> \"Thanks for letting me know how you are. How can I help you today?\"\n    }\n    \n    // Now, pass this prompt to your AI agent's chat interface to start the conversation.\n    // e.g., yourChatViewModel.startWithAiMessage(aiPrompt)\n}\n\n```\n\n### Best Practices & Enhancements\n\n*   **User Control:** Always have a settings screen where the user can enable/disable the daily check-in or change the time.\n*   **Privacy:** Be transparent about how you store and use this sensitive mood data.\n*   **Variety:** In your `MoodNotificationWorker`, create a larger pool of messages so the user doesn't see the same text every day. You could even have the AI generate these messages.\n*   **Data Storage:** For storing mood history, **Room Database** is perfect for local, offline-first storage. If you need to sync this data across devices or perform server-side analysis, use **Firebase Firestore**.\n*   **Analytics:** Track how many users enable this feature and interact with the notifications. This can help you improve the wording and timing.\n*   **Advanced Interaction:** Consider using the [Inline Reply](https://developer.android.com/develop/ui/views/notifications/build-notification#direct-reply) feature if you want users to type a short response directly from the notification shade."
          },
          "metadata": {}
        }
      ]
    },
    {
      "cell_type": "code",
      "source": [
        "groq_base_url=\"https://api.groq.com/openai/v1\"\n",
        "groq_api_key=userdata.get(\"GROQ_API_KEY\")"
      ],
      "metadata": {
        "id": "rLaZmto5AjNn"
      },
      "execution_count": null,
      "outputs": []
    },
    {
      "cell_type": "code",
      "source": [
        "groq=OpenAI(\n",
        "    api_key=groq_api_key,\n",
        "    base_url=groq_base_url\n",
        ")"
      ],
      "metadata": {
        "id": "G-F7hAJlA5x6"
      },
      "execution_count": null,
      "outputs": []
    },
    {
      "cell_type": "code",
      "source": [
        "groq_model=\"llama-3.3-70b-versatile\"\n",
        "\n",
        "response=groq.chat.completions.create(model=groq_model, messages=message)"
      ],
      "metadata": {
        "id": "yi7nEr84BDZq"
      },
      "execution_count": null,
      "outputs": []
    },
    {
      "cell_type": "code",
      "source": [
        "reply=response.choices[0].message.content\n",
        "display(Markdown(reply))"
      ],
      "metadata": {
        "colab": {
          "base_uri": "https://localhost:8080/",
          "height": 1000
        },
        "id": "Io92w4f_BDWH",
        "outputId": "6e0a9247-d935-4da7-8861-973ecc6d85a6"
      },
      "execution_count": null,
      "outputs": [
        {
          "output_type": "display_data",
          "data": {
            "text/plain": [
              "<IPython.core.display.Markdown object>"
            ],
            "text/markdown": "To send daily notifications to users and track their daily mood in an Android application that uses an AI agent as a mental health companion, you can follow these steps:\n\n**1. Schedule a Daily Notification:**\nUse the `AlarmManager` class to schedule a daily notification. You can set a repeating alarm that triggers at the same time every day.\n\n```java\n// Get the AlarmManager instance\nAlarmManager alarmManager = (AlarmManager) getSystemService(Context.ALARM_SERVICE);\n\n// Set the alarm time\nCalendar calendar = Calendar.getInstance();\ncalendar.setTimeInMillis(System.currentTimeMillis());\ncalendar.set(Calendar.HOUR_OF_DAY, 8); // Set the hour to 8:00 AM\ncalendar.set(Calendar.MINUTE, 0);\ncalendar.set(Calendar.SECOND, 0);\n\n// Create a PendingIntent to deliver the notification\nIntent intent = new Intent(this, NotificationReceiver.class);\nPendingIntent pendingIntent = PendingIntent.getBroadcast(this, 0, intent, 0);\n\n// Set the repeating alarm\nalarmManager.setRepeating(AlarmManager.RTC_WAKEUP, calendar.getTimeInMillis(), AlarmManager.INTERVAL_DAY, pendingIntent);\n```\n\n**2. Create a Notification:**\nCreate a notification that will be displayed to the user. You can use the `NotificationCompat.Builder` class to create a notification.\n\n```java\n// Create a notification builder\nNotificationCompat.Builder builder = new NotificationCompat.Builder(this);\n\n// Set the notification title and text\nbuilder.setContentTitle(\"Daily Mood Check-in\");\nbuilder.setContentText(\"How are you feeling today?\");\n\n// Set the notification icon\nbuilder.setSmallIcon(R.drawable.notification_icon);\n\n// Create a notification intent\nIntent intent = new Intent(this, MoodTrackerActivity.class);\nPendingIntent pendingIntent = PendingIntent.getActivity(this, 0, intent, 0);\n\n// Set the notification intent\nbuilder.setContentIntent(pendingIntent);\n\n// Build the notification\nNotification notification = builder.build();\n```\n\n**3. Track User Response:**\nCreate an activity (`MoodTrackerActivity`) that will be launched when the user clicks on the notification. This activity should have a UI that allows the user to input their daily mood (e.g., happy, sad, neutral).\n\n```java\n// MoodTrackerActivity.java\npublic class MoodTrackerActivity extends AppCompatActivity {\n    private EditText moodEditText;\n\n    @Override\n    protected void onCreate(Bundle savedInstanceState) {\n        super.onCreate(savedInstanceState);\n        setContentView(R.layout.activity_mood_tracker);\n\n        moodEditText = findViewById(R.id.mood_edit_text);\n\n        // Save the user's mood when they click the \"Submit\" button\n        Button submitButton = findViewById(R.id.submit_button);\n        submitButton.setOnClickListener(new View.OnClickListener() {\n            @Override\n            public void onClick(View v) {\n                String mood = moodEditText.getText().toString();\n                // Save the mood to your database or AI agent\n                saveMood(mood);\n            }\n        });\n    }\n\n    private void saveMood(String mood) {\n        // Save the mood to your database or AI agent\n        // ...\n    }\n}\n```\n\n**4. Integrate with AI Agent:**\nIntegrate the user's mood data with your AI agent. You can use the saved mood data to train your AI model or update the user's mental health profile.\n\n```java\n// SaveMood.java\npublic class SaveMood {\n    private AIAGENT aiAgent;\n\n    public SaveMood(AIAGENT aiAgent) {\n        this.aiAgent = aiAgent;\n    }\n\n    public void saveMood(String mood) {\n        // Update the user's mental health profile\n        aiAgent.updateUserProfile(mood);\n\n        // Train the AI model using the saved mood data\n        aiAgent.trainModel();\n    }\n}\n```\n\n**Example Use Case:**\n\n* The user installs and launches the application.\n* The application schedules a daily notification to check in with the user.\n* The user receives a daily notification at 8:00 AM.\n* The user clicks on the notification and launches the `MoodTrackerActivity`.\n* The user inputs their daily mood and clicks the \"Submit\" button.\n* The application saves the user's mood data and integrates it with the AI agent.\n* The AI agent updates the user's mental health profile and trains the AI model using the saved mood data.\n\n**Note:** This is a high-level overview of the process. You will need to modify and extend this code to fit your specific use case and requirements. Additionally, you should consider the user's privacy and data security when collecting and storing their mood data."
          },
          "metadata": {}
        }
      ]
    },
    {
      "cell_type": "markdown",
      "source": [
        "# With Deepseek"
      ],
      "metadata": {
        "id": "0pfKAMUjCt_0"
      }
    },
    {
      "cell_type": "code",
      "source": [
        "deepseek_base_url=\"https://api.deepseek.com\"\n",
        "deepseek_api_key=userdata.get(\"DEEPSEEK_API_KEY\")"
      ],
      "metadata": {
        "id": "z8JzXslVCyAa"
      },
      "execution_count": null,
      "outputs": []
    },
    {
      "cell_type": "code",
      "source": [
        "deepseek=OpenAI(\n",
        "    base_url=deepseek_base_url,\n",
        "    api_key=deepseek_api_key\n",
        ")"
      ],
      "metadata": {
        "id": "qTg10ky3DVkn"
      },
      "execution_count": null,
      "outputs": []
    },
    {
      "cell_type": "code",
      "source": [
        "# deepseek_model=\"deepseek-chat\"\n",
        "\n",
        "# response=deepseek.chat.completions.create(model=deepseek_model, messages=message)"
      ],
      "metadata": {
        "id": "ANg-iMWODeF1"
      },
      "execution_count": null,
      "outputs": []
    }
  ]
}