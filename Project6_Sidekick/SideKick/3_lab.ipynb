{
 "cells": [
  {
   "cell_type": "code",
   "execution_count": 1,
   "id": "9d4850ee",
   "metadata": {},
   "outputs": [
    {
     "name": "stdout",
     "output_type": "stream",
     "text": [
      "all ok!\n"
     ]
    }
   ],
   "source": [
    "print(\"all ok!\")"
   ]
  },
  {
   "cell_type": "code",
   "execution_count": 2,
   "id": "af4432e9",
   "metadata": {},
   "outputs": [],
   "source": [
    "from langgraph.graph import StateGraph, START, END\n",
    "from langgraph.prebuilt import ToolNode, tools_condition\n",
    "from langgraph.graph.message import add_messages\n",
    "from langgraph.checkpoint.memory import MemorySaver\n",
    "from langchain_openai import ChatOpenAI\n",
    "from langchain.agents import Tool\n",
    "from langchain_community.utilities import GoogleSerperAPIWrapper\n",
    "\n",
    "from typing import Annotated\n",
    "from typing_extensions import TypedDict\n",
    "from dotenv import load_dotenv\n",
    "import gradio as gr\n",
    "import requests\n",
    "import os\n",
    "import asyncio"
   ]
  },
  {
   "cell_type": "code",
   "execution_count": 3,
   "id": "d9cae036",
   "metadata": {},
   "outputs": [
    {
     "data": {
      "text/plain": [
       "True"
      ]
     },
     "execution_count": 3,
     "metadata": {},
     "output_type": "execute_result"
    }
   ],
   "source": [
    "load_dotenv()"
   ]
  },
  {
   "cell_type": "code",
   "execution_count": 4,
   "id": "779ae695",
   "metadata": {},
   "outputs": [],
   "source": [
    "# Defining a state\n",
    "\n",
    "class State(TypedDict):\n",
    "    messages: Annotated[list, add_messages]\n",
    "\n",
    "graph_builder=StateGraph(State)"
   ]
  },
  {
   "cell_type": "code",
   "execution_count": 5,
   "id": "913cad5b",
   "metadata": {},
   "outputs": [],
   "source": [
    "import os\n",
    "import requests\n",
    "\n",
    "PUSHOVER_URL=\"https://api.pushover.net/1/messages.json\"\n",
    "PUSHOVER_USER=os.getenv(\"PUSHOVER_USER\")\n",
    "PUSHOVER_TOKEN=os.getenv(\"PUSHOVER_TOKEN\")\n",
    "\n",
    "def push(text: str):\n",
    "    \"\"\"Send a push notification to the user\"\"\"\n",
    "    requests.post(PUSHOVER_URL, data={\"token\":PUSHOVER_TOKEN, \"user\":PUSHOVER_USER, \"message\":text})\n",
    "\n",
    "push_tool=Tool(\n",
    "    name=\"send_push_notifications\",\n",
    "    func=push,\n",
    "    description=\"Useful for when you need to send a push notification\"\n",
    ")"
   ]
  },
  {
   "cell_type": "code",
   "execution_count": 6,
   "id": "5e674fdf",
   "metadata": {},
   "outputs": [],
   "source": [
    "# nest_asyncio is used to run nested event loops\n",
    "import nest_asyncio\n",
    "nest_asyncio.apply()"
   ]
  },
  {
   "cell_type": "code",
   "execution_count": 7,
   "id": "e6d0244b",
   "metadata": {},
   "outputs": [],
   "source": [
    "\n",
    "memory = MemorySaver()"
   ]
  },
  {
   "cell_type": "code",
   "execution_count": 8,
   "id": "6c61a352",
   "metadata": {},
   "outputs": [],
   "source": [
    "async def setup_browser_tools():\n",
    "    \"\"\"Setup browser tools with proper resource management\"\"\"\n",
    "    serper=GoogleSerperAPIWrapper()\n",
    "    search_tool=Tool(\n",
    "        name=\"search\",\n",
    "        func=serper.run,\n",
    "        description=\"Useful for when you need to more information from online search\"\n",
    "        )\n",
    "    return [search_tool]\n"
   ]
  },
  {
   "cell_type": "code",
   "execution_count": 9,
   "id": "8db4f58a",
   "metadata": {},
   "outputs": [],
   "source": [
    "\n",
    "async def getting_graph(tools):\n",
    "    # Use a more capable model\n",
    "    llm = ChatOpenAI(model=\"gpt-4o-mini\", temperature=0)  # or \"gpt-3.5-turbo\" if gpt-4 is not available\n",
    "    # Bind tools to LLM\n",
    "    llm_with_tools = llm.bind_tools(tools)\n",
    "    # Create agent function\n",
    "    def agent(state: State):\n",
    "        messages = state[\"messages\"]\n",
    "        print(f\"🤖 Agent processing {len(messages)} messages\")\n",
    "        \n",
    "        try:\n",
    "            response = llm_with_tools.invoke(messages)\n",
    "            print(f\"🤖 Agent response type: {type(response)}\")\n",
    "            \n",
    "            # Check if tool calls are present\n",
    "            if hasattr(response, 'tool_calls') and response.tool_calls:\n",
    "                print(f\"🔧 Agent decided to use tools: {[tc['name'] for tc in response.tool_calls]}\")\n",
    "            else:\n",
    "                print(\"💬 Agent responding with text only\")\n",
    "                \n",
    "            return {\"messages\": [response]}\n",
    "        except Exception as e:\n",
    "            print(f\"❌ Agent error: {e}\")\n",
    "            import traceback\n",
    "            traceback.print_exc()\n",
    "            # Return a simple error message\n",
    "            from langchain_core.messages import AIMessage\n",
    "            return {\"messages\": [AIMessage(content=f\"I encountered an error: {str(e)}\")]}\n",
    "    \n",
    "    # Build a new graph instance\n",
    "    graph_builder = StateGraph(State)\n",
    "    \n",
    "    # Add nodes\n",
    "    graph_builder.add_node(\"agent\", agent)\n",
    "    graph_builder.add_node(\"tools\", ToolNode(tools))\n",
    "    \n",
    "    # Add edges\n",
    "    graph_builder.add_edge(START, \"agent\")\n",
    "    graph_builder.add_conditional_edges(\n",
    "        \"agent\",\n",
    "        tools_condition,\n",
    "        \"tools\"\n",
    "    )\n",
    "    graph_builder.add_edge(\"tools\", \"agent\")\n",
    "    \n",
    "    # Compile graph\n",
    "    graph = graph_builder.compile(checkpointer=memory)\n",
    "    \n",
    "    return graph"
   ]
  },
  {
   "cell_type": "code",
   "execution_count": 10,
   "id": "d994aa5c",
   "metadata": {},
   "outputs": [],
   "source": [
    "\n",
    "async def main():\n",
    "    try:\n",
    "        # Setup browser tools\n",
    "        search_tool = await setup_browser_tools()\n",
    "        print(\"✅ Browser tools setup completed!\")\n",
    "        \n",
    "        # Combine all tools\n",
    "        all_tools = search_tool + [push_tool]\n",
    "        print(f\"✅ Combined {len(all_tools)} tools total\")\n",
    "        \n",
    "        # Print available tools for debugging\n",
    "        print(\"🛠️ Available tools:\")\n",
    "        for tool in all_tools:\n",
    "            print(f\"  - {tool.name}: {tool.description}\")\n",
    "        \n",
    "        # Create the graph\n",
    "        graph = await getting_graph(all_tools)\n",
    "        print(\"✅ LangGraph created successfully!\")\n",
    "\n",
    "        # Now setup Gradio interface\n",
    "        config = {\"configurable\": {\"thread_id\": \"2\"}}\n",
    "        \n",
    "        async def chat(message, history):\n",
    "            print(f\"👤 User input: {message}\")\n",
    "            \n",
    "            try:\n",
    "                # Use HumanMessage object instead of dictionary\n",
    "                result = await graph.ainvoke(\n",
    "                    {\"messages\": {\"role\":\"user\", \"content\":message}}, \n",
    "                    config=config\n",
    "                )\n",
    "                \n",
    "                last_message = result[\"messages\"][-1]\n",
    "                response_content = last_message.content\n",
    "                \n",
    "                # Log the response\n",
    "                print(f\"🤖 Assistant response: {response_content}\")\n",
    "                \n",
    "                return response_content\n",
    "                \n",
    "            except Exception as e:\n",
    "                error_msg = f\"Sorry, I encountered an error: {str(e)}\"\n",
    "                print(f\"❌ Chat error: {e}\")\n",
    "                import traceback\n",
    "                traceback.print_exc()\n",
    "                return error_msg\n",
    "        \n",
    "        # Launch Gradio interface\n",
    "        print(\"🚀 Launching Gradio interface...\")\n",
    "\n",
    "        demo = gr.ChatInterface(\n",
    "            chat,\n",
    "            title=\"AI Web Assistant\",\n",
    "            description=\"I can browse the web and search for information for you! Try asking me to navigate to a website or search for something.\",\n",
    "            type=\"messages\"\n",
    "        )\n",
    "        \n",
    "        demo.launch(share=False, inbrowser=True,debug=True)\n",
    "\n",
    "    except Exception as e:\n",
    "        print(f\"❌ Error occurred: {e}\")\n",
    "        import traceback\n",
    "        traceback.print_exc()\n",
    "        \n",
    "    finally:\n",
    "        print(\"all done!!!\")"
   ]
  },
  {
   "cell_type": "code",
   "execution_count": 11,
   "id": "987db833",
   "metadata": {},
   "outputs": [
    {
     "name": "stdout",
     "output_type": "stream",
     "text": [
      "🚀 Running main application...\n",
      "✅ Browser tools setup completed!\n",
      "✅ Combined 2 tools total\n",
      "🛠️ Available tools:\n",
      "  - search: Useful for when you need to more information from online search\n",
      "  - send_push_notifications: Useful for when you need to send a push notification\n",
      "✅ LangGraph created successfully!\n",
      "🚀 Launching Gradio interface...\n",
      "* Running on local URL:  http://127.0.0.1:7860\n",
      "* To create a public link, set `share=True` in `launch()`.\n"
     ]
    },
    {
     "data": {
      "text/html": [
       "<div><iframe src=\"http://127.0.0.1:7860/\" width=\"100%\" height=\"500\" allow=\"autoplay; camera; microphone; clipboard-read; clipboard-write;\" frameborder=\"0\" allowfullscreen></iframe></div>"
      ],
      "text/plain": [
       "<IPython.core.display.HTML object>"
      ]
     },
     "metadata": {},
     "output_type": "display_data"
    },
    {
     "name": "stdout",
     "output_type": "stream",
     "text": [
      "👤 User input: hi there\n",
      "🤖 Agent processing 1 messages\n",
      "🤖 Agent response type: <class 'langchain_core.messages.ai.AIMessage'>\n",
      "💬 Agent responding with text only\n",
      "🤖 Assistant response: Hello! How can I assist you today?\n",
      "👤 User input: what is current gdp of America\n",
      "🤖 Agent processing 3 messages\n",
      "🤖 Agent response type: <class 'langchain_core.messages.ai.AIMessage'>\n",
      "🔧 Agent decided to use tools: ['search']\n",
      "🤖 Agent processing 5 messages\n",
      "🤖 Agent response type: <class 'langchain_core.messages.ai.AIMessage'>\n",
      "💬 Agent responding with text only\n",
      "🤖 Assistant response: The current GDP of the United States in 2023 is approximately 27.72 trillion USD.\n",
      "👤 User input: Nice to meet you\n",
      "🤖 Agent processing 7 messages\n",
      "🤖 Agent response type: <class 'langchain_core.messages.ai.AIMessage'>\n",
      "💬 Agent responding with text only\n",
      "🤖 Assistant response: Nice to meet you too! If you have any more questions or need assistance with anything else, feel free to ask.\n",
      "Keyboard interruption in main thread... closing server.\n",
      "all done!!!\n"
     ]
    }
   ],
   "source": [
    "\n",
    "if __name__ == \"__main__\":\n",
    "    print(\"🚀 Running main application...\")\n",
    "    asyncio.run(main())"
   ]
  },
  {
   "cell_type": "code",
   "execution_count": null,
   "id": "ef0e1610",
   "metadata": {},
   "outputs": [],
   "source": [
    "\n"
   ]
  },
  {
   "cell_type": "code",
   "execution_count": null,
   "id": "ed53b19e",
   "metadata": {},
   "outputs": [],
   "source": [
    "\n"
   ]
  }
 ],
 "metadata": {
  "kernelspec": {
   "display_name": "Python 3",
   "language": "python",
   "name": "python3"
  },
  "language_info": {
   "codemirror_mode": {
    "name": "ipython",
    "version": 3
   },
   "file_extension": ".py",
   "mimetype": "text/x-python",
   "name": "python",
   "nbconvert_exporter": "python",
   "pygments_lexer": "ipython3",
   "version": "3.12.4"
  }
 },
 "nbformat": 4,
 "nbformat_minor": 5
}
